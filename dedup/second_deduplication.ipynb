{
 "cells": [
  {
   "cell_type": "markdown",
   "metadata": {},
   "source": [
    "## Second deduplication\n",
    "\n",
    "This notebook begins with **manifestationmeta.tsv,** and moves toward a smaller dataset that aspires to contain only one copy of each \"work,\" in [FRBR terminology.](https://en.wikipedia.org/wiki/Functional_Requirements_for_Bibliographic_Records) \n",
    "\n",
    "However, this reference to FRBR should not be taken very literally. In reality, we're just identifying (relatively) unique title-author pairs, which may or may not line up with \"works\" and \"expressions.\" I say \"relatively\" because fuzzy matching is used to allow for minor variations in spelling and punctuation.\n"
   ]
  },
  {
   "cell_type": "code",
   "execution_count": 1,
   "metadata": {},
   "outputs": [],
   "source": [
    "import pandas as pd\n",
    "from difflib import SequenceMatcher\n"
   ]
  },
  {
   "cell_type": "code",
   "execution_count": 2,
   "metadata": {},
   "outputs": [],
   "source": [
    "meta = pd.read_csv('manifestationmeta.tsv', sep = '\\t', low_memory = False)\n",
    "\n",
    "blocks = dict()\n",
    "for idx in meta.index:\n",
    "    name = meta.loc[idx, 'author']\n",
    "    if pd.isnull(name) or len(name) < 3:\n",
    "        name = 'nan'\n",
    "        \n",
    "    title = meta.loc[idx, 'shorttitle']\n",
    "    \n",
    "    # note that we use short titles, which means that we'll be using\n",
    "    # the titles for individual volume parts when available\n",
    "    \n",
    "    if pd.isnull(title) or len(title) < 5:\n",
    "        title = 'default'\n",
    "    \n",
    "    blockcode = name[0:3].lower() + title[0:5].lower()\n",
    "    if blockcode not in blocks:\n",
    "        blocks[blockcode] = set()\n",
    "    \n",
    "    blocks[blockcode].add(idx)"
   ]
  },
  {
   "cell_type": "code",
   "execution_count": 3,
   "metadata": {},
   "outputs": [
    {
     "data": {
      "text/plain": [
       "89178"
      ]
     },
     "execution_count": 3,
     "metadata": {},
     "output_type": "execute_result"
    }
   ],
   "source": [
    "len(blocks)\n"
   ]
  },
  {
   "cell_type": "code",
   "execution_count": null,
   "metadata": {},
   "outputs": [
    {
     "name": "stdout",
     "output_type": "stream",
     "text": [
      "1\n",
      "10001\n",
      "20001"
     ]
    }
   ],
   "source": [
    "def probablymatch(str1, str2):\n",
    "    if len(str1) > 25:\n",
    "        str1 = str1[0: 25].lower()\n",
    "    else:\n",
    "        str1 = str1.lower()\n",
    "        \n",
    "    if len(str2) > 25:\n",
    "        str2 = str2[0: 25].lower()\n",
    "    else:\n",
    "        str2 = str2.lower()\n",
    "    \n",
    "    m = SequenceMatcher(None, str1, str2)\n",
    "    match = m.ratio()\n",
    "    \n",
    "    return match\n",
    "\n",
    "groups = []\n",
    "dubiouscalls = []\n",
    "\n",
    "ctr = 0\n",
    "for code, block in blocks.items():\n",
    "    ctr += 1\n",
    "    if ctr % 10000 == 1:\n",
    "        print(ctr)\n",
    "    \n",
    "    already_checked = set()\n",
    "    \n",
    "    for b1 in block:\n",
    "        matched = False\n",
    "        for b2 in block:\n",
    "            if b1 == b2:\n",
    "                continue\n",
    "            if (str(b1) + ' ' + str(b2)) in already_checked:\n",
    "                continue\n",
    "            \n",
    "            auth1 = meta.loc[b1, 'author']\n",
    "            auth2 = meta.loc[b2, 'author']\n",
    "            title1 = meta.loc[b1, 'shorttitle']\n",
    "            title2 = meta.loc[b2, 'shorttitle']\n",
    "            \n",
    "            if pd.isnull(auth1) or pd.isnull(auth2):\n",
    "                continue\n",
    "            if pd.isnull(title1) or pd.isnull(title2):\n",
    "                continue\n",
    "            \n",
    "            if len(auth1) < 4 or len(auth2) < 4:\n",
    "                continue\n",
    "            if len(title1) < 5 or len(title2) < 5:\n",
    "                continue\n",
    "            \n",
    "            if auth1 == auth2:\n",
    "                authormatch = 1.0\n",
    "            else:\n",
    "                authormatch = probablymatch(auth1, auth2)\n",
    "                if authormatch < 0.9:\n",
    "                    continue\n",
    "            \n",
    "            if title1 == title2:\n",
    "                titlematch = 1.0\n",
    "            else:\n",
    "                titlematch = probablymatch(title1, title2)\n",
    "                if titlematch < 0.85:\n",
    "                    continue\n",
    "            \n",
    "            if authormatch + titlematch < 1.87:\n",
    "                continue\n",
    "            elif authormatch + titlematch < 1.9:\n",
    "                outline = auth1 + \" | \" + title1 + '\\n' + auth2 + ' | ' + title2 + '\\n' + str(authormatch + titlematch) + '\\n'\n",
    "                dubiouscalls.append(outline)           \n",
    "            \n",
    "            # we have a match!\n",
    "            matched = True\n",
    "            found = False\n",
    "            for g in groups:\n",
    "                if b1 in g or b2 in g:\n",
    "                    g.add(b1)\n",
    "                    g.add(b2)\n",
    "                    found = True\n",
    "                    break\n",
    "\n",
    "            if not found:\n",
    "                groups.append({b1, b2})\n",
    "            \n",
    "            already_checked.add(str(b2) + ' ' + str(b1))\n",
    "            \n",
    "        if not matched:\n",
    "            groups.append({b1})\n",
    "                \n",
    "                "
   ]
  },
  {
   "cell_type": "code",
   "execution_count": 19,
   "metadata": {},
   "outputs": [
    {
     "data": {
      "text/plain": [
       "8424"
      ]
     },
     "execution_count": 19,
     "metadata": {},
     "output_type": "execute_result"
    }
   ],
   "source": [
    "len(dubiouscalls)"
   ]
  },
  {
   "cell_type": "code",
   "execution_count": 20,
   "metadata": {},
   "outputs": [],
   "source": [
    "with open('dubiouscalls.txt', mode = 'w', encoding = 'utf-8') as f:\n",
    "    for d in dubiouscalls:\n",
    "        f.write(d)"
   ]
  },
  {
   "cell_type": "code",
   "execution_count": 21,
   "metadata": {},
   "outputs": [
    {
     "data": {
      "text/plain": [
       "146878"
      ]
     },
     "execution_count": 21,
     "metadata": {},
     "output_type": "execute_result"
    }
   ],
   "source": [
    "len(groups)"
   ]
  },
  {
   "cell_type": "code",
   "execution_count": 23,
   "metadata": {},
   "outputs": [
    {
     "name": "stdout",
     "output_type": "stream",
     "text": [
      "317\n"
     ]
    }
   ],
   "source": [
    "maxsize = 0\n",
    "for g in groups:\n",
    "    if len(g) > maxsize:\n",
    "        maxsize = len(g)\n",
    "print(maxsize)"
   ]
  },
  {
   "cell_type": "code",
   "execution_count": 33,
   "metadata": {},
   "outputs": [
    {
     "name": "stdout",
     "output_type": "stream",
     "text": [
      "1\n",
      "10001\n",
      "20001\n",
      "30001\n",
      "40001\n",
      "50001\n",
      "60001\n",
      "70001\n",
      "80001\n",
      "90001\n",
      "100001\n",
      "110001\n",
      "120001\n",
      "130001\n",
      "140001\n"
     ]
    },
    {
     "name": "stderr",
     "output_type": "stream",
     "text": [
      "/Users/tunder/miniconda3/lib/python3.5/site-packages/IPython/core/interactiveshell.py:2902: DtypeWarning: Columns (16) have mixed types. Specify dtype option on import or set low_memory=False.\n",
      "  interactivity=interactivity, compiler=compiler, result=result)\n"
     ]
    }
   ],
   "source": [
    "newmeta = pd.read_csv('manifestationmeta.tsv', sep = '\\t', low_memory = False, index_col = 'docid')\n",
    "\n",
    "selected = []\n",
    "ignored = []\n",
    "errors = 0\n",
    "instances = dict()\n",
    "\n",
    "ctr = 0\n",
    "for g in groups:\n",
    "    ctr += 1\n",
    "    if ctr % 10000 == 1:\n",
    "        print(ctr)\n",
    "        \n",
    "    if len(g) == 1:\n",
    "        for e in g:\n",
    "            break\n",
    "        selected.append(e)\n",
    "        continue\n",
    "    if len(g) < 1:\n",
    "        errors += 1\n",
    "        continue\n",
    "    \n",
    "    earliest = ''\n",
    "    earliestdate = 2100\n",
    "    for element in g:\n",
    "        date = meta.loc[element, 'inferreddate']\n",
    "        if pd.isnull(date):\n",
    "            date = 2100\n",
    "        else:\n",
    "            date = int(date)\n",
    "        \n",
    "        if earliestdate == 2100 or date < earliestdate:\n",
    "            earliestdate = date\n",
    "            earliest = element\n",
    "            if earliestdate < 1700:\n",
    "                earliestdate = 2100\n",
    "                # don't reward dubious dates\n",
    "        \n",
    "    record = meta.loc[earliest, 'recordid']\n",
    "    title2match = str(meta.loc[earliest, 'shorttitle'])\n",
    "\n",
    "    matching = []\n",
    "\n",
    "    thisrec = meta.loc[meta.recordid == record, : ]\n",
    "    for idx in thisrec.index:\n",
    "        thistitle = str(thisrec.loc[idx, 'shorttitle'])\n",
    "        match = probablymatch(title2match, thistitle)\n",
    "        if match > 0.9:\n",
    "            matching.append(idx)\n",
    "    \n",
    "    if len(matching) < 6:\n",
    "        selected.extend(matching)\n",
    "        docids = meta.loc[matching, 'docid']\n",
    "        instanceseries = newmeta.loc[docids, 'instances']\n",
    "        allinstances = sum(instanceseries)\n",
    "        for m in matching:\n",
    "            instances[m] = allinstances\n",
    "    else:\n",
    "        ignored.append((title2match, record))\n",
    "        \n",
    "            "
   ]
  },
  {
   "cell_type": "code",
   "execution_count": 36,
   "metadata": {},
   "outputs": [
    {
     "name": "stdout",
     "output_type": "stream",
     "text": [
      "146878\n"
     ]
    }
   ],
   "source": [
    "print(len(groups))\n"
   ]
  },
  {
   "cell_type": "code",
   "execution_count": 38,
   "metadata": {},
   "outputs": [
    {
     "name": "stdout",
     "output_type": "stream",
     "text": [
      "126156\n"
     ]
    }
   ],
   "source": [
    "print(errors)"
   ]
  },
  {
   "cell_type": "code",
   "execution_count": 30,
   "metadata": {},
   "outputs": [
    {
     "data": {
      "text/plain": [
       "[('Scenes of Parisian life;', 1203519),\n",
       " ('Scenes of private life;', 1203519),\n",
       " ('Scenes of private life;', 1203519),\n",
       " ('Scenes of provincial life;', 1203519),\n",
       " ('Scenes of provincial life;', 1203519),\n",
       " ('Scenes of Parisian life', 7678129),\n",
       " ('The works of George Eliot', 8894081),\n",
       " ('The writings of George Eliot', 1419580),\n",
       " (\"The world's one hundred best short stories\", 6511333),\n",
       " ('Collected edition of the novels and tales', 8665191),\n",
       " ('Works', 7924576),\n",
       " ('\"Captains courageous,\" a story of the Grand banks', 6156153),\n",
       " ('The works of Honoré de Balzac', 6142151),\n",
       " ('The works of Honoré de Balzac;', 1791774),\n",
       " ('The works of Honore   de Balzac', 8618533),\n",
       " ('The come  die humaine', 7126282),\n",
       " ('The comedy of human life;', 11261041),\n",
       " ('[Works]', 7924580),\n",
       " ('The novels and tales of Guy de Maupassant', 7569104),\n",
       " ('Romances and narratives', 432149)]"
      ]
     },
     "execution_count": 30,
     "metadata": {},
     "output_type": "execute_result"
    }
   ],
   "source": [
    "ignored[0:20]"
   ]
  },
  {
   "cell_type": "code",
   "execution_count": null,
   "metadata": {},
   "outputs": [],
   "source": [
    "deduped"
   ]
  }
 ],
 "metadata": {
  "kernelspec": {
   "display_name": "Python 3",
   "language": "python",
   "name": "python3"
  },
  "language_info": {
   "codemirror_mode": {
    "name": "ipython",
    "version": 3
   },
   "file_extension": ".py",
   "mimetype": "text/x-python",
   "name": "python",
   "nbconvert_exporter": "python",
   "pygments_lexer": "ipython3",
   "version": "3.5.2"
  }
 },
 "nbformat": 4,
 "nbformat_minor": 2
}
