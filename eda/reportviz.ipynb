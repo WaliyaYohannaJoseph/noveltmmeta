{
 "cells": [
  {
   "cell_type": "markdown",
   "metadata": {},
   "source": [
    "# Viz for the report"
   ]
  },
  {
   "cell_type": "code",
   "execution_count": 9,
   "metadata": {
    "collapsed": true
   },
   "outputs": [],
   "source": [
    "import pandas as pd\n",
    "import numpy as np\n",
    "from matplotlib import pyplot as plt\n",
    "%matplotlib inline\n",
    "from collections import Counter"
   ]
  },
  {
   "cell_type": "code",
   "execution_count": 3,
   "metadata": {},
   "outputs": [
    {
     "data": {
      "text/html": [
       "<div>\n",
       "<table border=\"1\" class=\"dataframe\">\n",
       "  <thead>\n",
       "    <tr style=\"text-align: right;\">\n",
       "      <th></th>\n",
       "      <th>oldauthor</th>\n",
       "      <th>author</th>\n",
       "      <th>authordate</th>\n",
       "      <th>inferreddate</th>\n",
       "      <th>latestcomp</th>\n",
       "      <th>datetype</th>\n",
       "      <th>startdate</th>\n",
       "      <th>enddate</th>\n",
       "      <th>imprint</th>\n",
       "      <th>imprintdate</th>\n",
       "      <th>...</th>\n",
       "      <th>recordid</th>\n",
       "      <th>instances</th>\n",
       "      <th>allcopiesofwork</th>\n",
       "      <th>copiesin25yrs</th>\n",
       "      <th>enumcron</th>\n",
       "      <th>volnum</th>\n",
       "      <th>title</th>\n",
       "      <th>parttitle</th>\n",
       "      <th>earlyedition</th>\n",
       "      <th>shorttitle</th>\n",
       "    </tr>\n",
       "    <tr>\n",
       "      <th>docid</th>\n",
       "      <th></th>\n",
       "      <th></th>\n",
       "      <th></th>\n",
       "      <th></th>\n",
       "      <th></th>\n",
       "      <th></th>\n",
       "      <th></th>\n",
       "      <th></th>\n",
       "      <th></th>\n",
       "      <th></th>\n",
       "      <th></th>\n",
       "      <th></th>\n",
       "      <th></th>\n",
       "      <th></th>\n",
       "      <th></th>\n",
       "      <th></th>\n",
       "      <th></th>\n",
       "      <th></th>\n",
       "      <th></th>\n",
       "      <th></th>\n",
       "      <th></th>\n",
       "    </tr>\n",
       "  </thead>\n",
       "  <tbody>\n",
       "    <tr>\n",
       "      <th>mdp.39015031913893</th>\n",
       "      <td>Spencer, Louise Reid</td>\n",
       "      <td>Spencer, Louise Reid</td>\n",
       "      <td>NaN</td>\n",
       "      <td>0</td>\n",
       "      <td>2100</td>\n",
       "      <td>|</td>\n",
       "      <td>||||</td>\n",
       "      <td>||||</td>\n",
       "      <td>Thomas Y. Crowell company|1945</td>\n",
       "      <td>1945</td>\n",
       "      <td>...</td>\n",
       "      <td>8744</td>\n",
       "      <td>1</td>\n",
       "      <td>1</td>\n",
       "      <td>1</td>\n",
       "      <td>NaN</td>\n",
       "      <td>NaN</td>\n",
       "      <td>Guerrilla wife | $c: [by] Louise Reid Spencer.</td>\n",
       "      <td>NaN</td>\n",
       "      <td>True</td>\n",
       "      <td>Guerrilla wife</td>\n",
       "    </tr>\n",
       "    <tr>\n",
       "      <th>mdp.39015003936864</th>\n",
       "      <td>Baker, Robert H</td>\n",
       "      <td>Baker, Robert H</td>\n",
       "      <td>NaN</td>\n",
       "      <td>0</td>\n",
       "      <td>2100</td>\n",
       "      <td>n</td>\n",
       "      <td></td>\n",
       "      <td></td>\n",
       "      <td>Port Washington, N.Y.|Ashley Books|197-?].</td>\n",
       "      <td>&lt;estimate=\"[197-?]\"&gt;</td>\n",
       "      <td>...</td>\n",
       "      <td>39757</td>\n",
       "      <td>1</td>\n",
       "      <td>1</td>\n",
       "      <td>1</td>\n",
       "      <td>NaN</td>\n",
       "      <td>NaN</td>\n",
       "      <td>The suburbs : | a novel / | $c: by Robert H. B...</td>\n",
       "      <td>NaN</td>\n",
       "      <td>True</td>\n",
       "      <td>The suburbs : a novel</td>\n",
       "    </tr>\n",
       "    <tr>\n",
       "      <th>mdp.39015068342305</th>\n",
       "      <td>Dickens, Charles</td>\n",
       "      <td>Dickens, Charles</td>\n",
       "      <td>1812-1870.</td>\n",
       "      <td>0</td>\n",
       "      <td>1870</td>\n",
       "      <td>n</td>\n",
       "      <td></td>\n",
       "      <td></td>\n",
       "      <td>New York|The American news company|n.d.</td>\n",
       "      <td>&lt;unparsed=\"[n.d.]\"&gt;</td>\n",
       "      <td>...</td>\n",
       "      <td>119996</td>\n",
       "      <td>1</td>\n",
       "      <td>1</td>\n",
       "      <td>1</td>\n",
       "      <td>NaN</td>\n",
       "      <td>NaN</td>\n",
       "      <td>Edwin Drood. | $c: By Charles Dickens. With il...</td>\n",
       "      <td>NaN</td>\n",
       "      <td>True</td>\n",
       "      <td>Edwin Drood</td>\n",
       "    </tr>\n",
       "    <tr>\n",
       "      <th>mdp.39015055066586</th>\n",
       "      <td>Stretton, Hesba</td>\n",
       "      <td>Stretton, Hesba</td>\n",
       "      <td>1832-1911.</td>\n",
       "      <td>0</td>\n",
       "      <td>1911</td>\n",
       "      <td>n</td>\n",
       "      <td></td>\n",
       "      <td></td>\n",
       "      <td>New York|Dodd, Mead &amp; co.|n.d.</td>\n",
       "      <td>&lt;unparsed=\"[n.d.]\"&gt;</td>\n",
       "      <td>...</td>\n",
       "      <td>122460</td>\n",
       "      <td>1</td>\n",
       "      <td>1</td>\n",
       "      <td>1</td>\n",
       "      <td>NaN</td>\n",
       "      <td>NaN</td>\n",
       "      <td>Carola, | $c: by Hesba Stretton.</td>\n",
       "      <td>NaN</td>\n",
       "      <td>True</td>\n",
       "      <td>Carola</td>\n",
       "    </tr>\n",
       "    <tr>\n",
       "      <th>mdp.39015055066594</th>\n",
       "      <td>Stretton,Hesba</td>\n",
       "      <td>Stretton, Hesba</td>\n",
       "      <td>1832-1911.</td>\n",
       "      <td>0</td>\n",
       "      <td>1911</td>\n",
       "      <td>n</td>\n",
       "      <td></td>\n",
       "      <td></td>\n",
       "      <td>New York|Dodd, Mead &amp; co.|n.d.</td>\n",
       "      <td>&lt;unparsed=\"[n.d.]\"&gt;</td>\n",
       "      <td>...</td>\n",
       "      <td>122464</td>\n",
       "      <td>1</td>\n",
       "      <td>1</td>\n",
       "      <td>1</td>\n",
       "      <td>NaN</td>\n",
       "      <td>NaN</td>\n",
       "      <td>In prison &amp; out. | $c: By Hesba Stretton.</td>\n",
       "      <td>NaN</td>\n",
       "      <td>True</td>\n",
       "      <td>In prison &amp; out</td>\n",
       "    </tr>\n",
       "  </tbody>\n",
       "</table>\n",
       "<p>5 rows × 27 columns</p>\n",
       "</div>"
      ],
      "text/plain": [
       "                               oldauthor                author  authordate  \\\n",
       "docid                                                                        \n",
       "mdp.39015031913893  Spencer, Louise Reid  Spencer, Louise Reid         NaN   \n",
       "mdp.39015003936864       Baker, Robert H       Baker, Robert H         NaN   \n",
       "mdp.39015068342305      Dickens, Charles      Dickens, Charles  1812-1870.   \n",
       "mdp.39015055066586       Stretton, Hesba       Stretton, Hesba  1832-1911.   \n",
       "mdp.39015055066594        Stretton,Hesba       Stretton, Hesba  1832-1911.   \n",
       "\n",
       "                    inferreddate  latestcomp datetype startdate enddate  \\\n",
       "docid                                                                     \n",
       "mdp.39015031913893             0        2100        |      ||||    ||||   \n",
       "mdp.39015003936864             0        2100        n                     \n",
       "mdp.39015068342305             0        1870        n                     \n",
       "mdp.39015055066586             0        1911        n                     \n",
       "mdp.39015055066594             0        1911        n                     \n",
       "\n",
       "                                                       imprint  \\\n",
       "docid                                                            \n",
       "mdp.39015031913893              Thomas Y. Crowell company|1945   \n",
       "mdp.39015003936864  Port Washington, N.Y.|Ashley Books|197-?].   \n",
       "mdp.39015068342305     New York|The American news company|n.d.   \n",
       "mdp.39015055066586              New York|Dodd, Mead & co.|n.d.   \n",
       "mdp.39015055066594              New York|Dodd, Mead & co.|n.d.   \n",
       "\n",
       "                             imprintdate          ...           recordid  \\\n",
       "docid                                             ...                      \n",
       "mdp.39015031913893                  1945          ...               8744   \n",
       "mdp.39015003936864  <estimate=\"[197-?]\">          ...              39757   \n",
       "mdp.39015068342305   <unparsed=\"[n.d.]\">          ...             119996   \n",
       "mdp.39015055066586   <unparsed=\"[n.d.]\">          ...             122460   \n",
       "mdp.39015055066594   <unparsed=\"[n.d.]\">          ...             122464   \n",
       "\n",
       "                   instances allcopiesofwork copiesin25yrs enumcron  volnum  \\\n",
       "docid                                                                         \n",
       "mdp.39015031913893         1               1             1      NaN     NaN   \n",
       "mdp.39015003936864         1               1             1      NaN     NaN   \n",
       "mdp.39015068342305         1               1             1      NaN     NaN   \n",
       "mdp.39015055066586         1               1             1      NaN     NaN   \n",
       "mdp.39015055066594         1               1             1      NaN     NaN   \n",
       "\n",
       "                                                                title  \\\n",
       "docid                                                                   \n",
       "mdp.39015031913893     Guerrilla wife | $c: [by] Louise Reid Spencer.   \n",
       "mdp.39015003936864  The suburbs : | a novel / | $c: by Robert H. B...   \n",
       "mdp.39015068342305  Edwin Drood. | $c: By Charles Dickens. With il...   \n",
       "mdp.39015055066586                   Carola, | $c: by Hesba Stretton.   \n",
       "mdp.39015055066594          In prison & out. | $c: By Hesba Stretton.   \n",
       "\n",
       "                    parttitle  earlyedition             shorttitle  \n",
       "docid                                                               \n",
       "mdp.39015031913893        NaN          True         Guerrilla wife  \n",
       "mdp.39015003936864        NaN          True  The suburbs : a novel  \n",
       "mdp.39015068342305        NaN          True            Edwin Drood  \n",
       "mdp.39015055066586        NaN          True                 Carola  \n",
       "mdp.39015055066594        NaN          True        In prison & out  \n",
       "\n",
       "[5 rows x 27 columns]"
      ]
     },
     "execution_count": 3,
     "metadata": {},
     "output_type": "execute_result"
    }
   ],
   "source": [
    "work = pd.read_csv('../workmeta.tsv', sep = '\\t', index_col = 'docid', low_memory=False)\n",
    "work.head()"
   ]
  },
  {
   "cell_type": "code",
   "execution_count": 5,
   "metadata": {},
   "outputs": [
    {
     "data": {
      "text/plain": [
       "Index(['oldauthor', 'author', 'authordate', 'inferreddate', 'latestcomp',\n",
       "       'datetype', 'startdate', 'enddate', 'imprint', 'imprintdate',\n",
       "       'contents', 'genres', 'subjects', 'geographics', 'locnum', 'oclc',\n",
       "       'place', 'recordid', 'instances', 'allcopiesofwork', 'copiesin25yrs',\n",
       "       'enumcron', 'volnum', 'title', 'parttitle', 'earlyedition',\n",
       "       'shorttitle'],\n",
       "      dtype='object')"
      ]
     },
     "execution_count": 5,
     "metadata": {},
     "output_type": "execute_result"
    }
   ],
   "source": [
    "work.columns"
   ]
  },
  {
   "cell_type": "code",
   "execution_count": 10,
   "metadata": {},
   "outputs": [
    {
     "name": "stdout",
     "output_type": "stream",
     "text": [
      "[('Fiction', 76816), ('NotFiction', 41743), ('UnknownGenre', 5845), ('Bibliographies', 4424), ('Novel', 3301), ('Juvenile audience', 3071), ('Short stories', 1332), ('Domestic fiction', 1117), ('Love stories', 980), ('Historical fiction', 950), ('Psychological fiction', 902), ('ContainsBiogMaterial', 889), ('Detective and mystery stories', 691), ('Mystery fiction', 658), ('Autobiography', 459), ('Science fiction', 376), ('Suspense fiction', 371), ('Biography', 297), ('NotBiographical', 290), ('Bildungsromans', 277), (\"Publishers' advertisements\", 275), ('Humorous stories', 229), ('Bildungsromane', 219), ('Adventure stories', 210), ('War stories', 207)]\n"
     ]
    }
   ],
   "source": [
    "allgenres = Counter()\n",
    "for index, row in work.iterrows():\n",
    "    if pd.isnull(row.genres):\n",
    "        continue\n",
    "    g = set(row.genres.split('|'))\n",
    "    for genre in g:\n",
    "        allgenres[genre] += 1\n",
    "print(allgenres.most_common(25))"
   ]
  },
  {
   "cell_type": "code",
   "execution_count": 11,
   "metadata": {
    "collapsed": true
   },
   "outputs": [],
   "source": [
    "alltitles = Counter()\n",
    "fictiontitles = Counter()\n",
    "ficclues = {'Fiction', 'Novel', 'Short stories', 'Domestic fiction', 'Love stories', \n",
    "            'Historical fiction', 'Psychological fiction', \"Detective and mystery stories\"}\n",
    "for index, row in work.iterrows():\n",
    "    date = int(row.latestcomp)\n",
    "    alltitles[date] += 1\n",
    "    \n",
    "    if pd.isnull(row.genres):\n",
    "        continue\n",
    "    g = set(row.genres.split('|'))\n",
    "    fiction = False\n",
    "    for genre in g:\n",
    "        if genre in ficclues:\n",
    "            fiction = True\n",
    "            break\n",
    "    if fiction:\n",
    "        fictiontitles[date] += 1\n",
    "\n",
    "        "
   ]
  },
  {
   "cell_type": "code",
   "execution_count": 12,
   "metadata": {},
   "outputs": [
    {
     "data": {
      "text/plain": [
       "[<matplotlib.lines.Line2D at 0x122773d30>]"
      ]
     },
     "execution_count": 12,
     "metadata": {},
     "output_type": "execute_result"
    },
    {
     "data": {
      "image/png": "[encoded data removed]",
      "text/plain": [
       "<matplotlib.figure.Figure at 0x11684b198>"
      ]
     },
     "metadata": {},
     "output_type": "display_data"
    }
   ],
   "source": [
    "x = []\n",
    "y = []\n",
    "for i in range(1800, 2008):\n",
    "    if i in alltitles and alltitles[i] > 0:\n",
    "        ratio = fictiontitles[i] / alltitles[i]\n",
    "    else:\n",
    "        ratio = 0\n",
    "    x.append(i)\n",
    "    y.append(ratio)\n",
    "plt.plot(x, y)"
   ]
  },
  {
   "cell_type": "code",
   "execution_count": 13,
   "metadata": {
    "collapsed": true
   },
   "outputs": [],
   "source": [
    "master = pd.read_csv('../masterficmetadata.tsv', sep = '\\t', index_col = 'docid', low_memory=False)"
   ]
  },
  {
   "cell_type": "code",
   "execution_count": 14,
   "metadata": {},
   "outputs": [
    {
     "data": {
      "text/plain": [
       "Index(['oldauthor', 'author', 'authordate', 'inferreddate', 'latestcomp',\n",
       "       'datetype', 'startdate', 'enddate', 'imprint', 'imprintdate',\n",
       "       'contents', 'genres', 'subjects', 'geographics', 'locnum', 'oclc',\n",
       "       'place', 'recordid', 'enumcron', 'volnum', 'title', 'parttitle',\n",
       "       'shorttitle'],\n",
       "      dtype='object')"
      ]
     },
     "execution_count": 14,
     "metadata": {},
     "output_type": "execute_result"
    }
   ],
   "source": [
    "master.columns"
   ]
  },
  {
   "cell_type": "code",
   "execution_count": 16,
   "metadata": {},
   "outputs": [],
   "source": [
    "alltitles = Counter()\n",
    "fictiontitles = Counter()\n",
    "ficclues = {'Fiction', 'Novel', 'Short stories', 'Domestic fiction', 'Love stories', \n",
    "            'Historical fiction', 'Psychological fiction', \"Detective and mystery stories\"}\n",
    "for index, row in master.iterrows():\n",
    "    date = int(row.latestcomp)\n",
    "    alltitles[date] += 1\n",
    "    \n",
    "    if pd.isnull(row.genres):\n",
    "        continue\n",
    "    g = set(row.genres.split('|'))\n",
    "    fiction = False\n",
    "    for genre in g:\n",
    "        if genre in ficclues:\n",
    "            fiction = True\n",
    "            break\n",
    "    if fiction:\n",
    "        fictiontitles[date] += 1"
   ]
  },
  {
   "cell_type": "code",
   "execution_count": 17,
   "metadata": {},
   "outputs": [
    {
     "data": {
      "text/plain": [
       "[<matplotlib.lines.Line2D at 0x11d256320>]"
      ]
     },
     "execution_count": 17,
     "metadata": {},
     "output_type": "execute_result"
    },
    {
     "data": {
      "image/png": "[encoded data removed]",
      "text/plain": [
       "<matplotlib.figure.Figure at 0x114d68080>"
      ]
     },
     "metadata": {},
     "output_type": "display_data"
    }
   ],
   "source": [
    "x = []\n",
    "y = []\n",
    "for i in range(1800, 2008):\n",
    "    if i in alltitles and alltitles[i] > 0:\n",
    "        ratio = fictiontitles[i] / alltitles[i]\n",
    "    else:\n",
    "        ratio = 0\n",
    "    x.append(i)\n",
    "    y.append(ratio)\n",
    "plt.plot(x, y)"
   ]
  },
  {
   "cell_type": "code",
   "execution_count": 19,
   "metadata": {},
   "outputs": [
    {
     "data": {
      "text/plain": [
       "[(1800, 0.3645833333333333),\n",
       " (1801, 0.4175824175824176),\n",
       " (1802, 0.29508196721311475),\n",
       " (1803, 0.23170731707317074),\n",
       " (1804, 0.13846153846153847),\n",
       " (1805, 0.4375),\n",
       " (1806, 0.23728813559322035),\n",
       " (1807, 0.42138364779874216),\n",
       " (1808, 0.30973451327433627),\n",
       " (1809, 0.2833333333333333),\n",
       " (1810, 0.34615384615384615),\n",
       " (1811, 0.3006993006993007),\n",
       " (1812, 0.37383177570093457),\n",
       " (1813, 0.3010752688172043),\n",
       " (1814, 0.42857142857142855),\n",
       " (1815, 0.3983739837398374),\n",
       " (1816, 0.3076923076923077),\n",
       " (1817, 0.4541176470588235),\n",
       " (1818, 0.3194444444444444),\n",
       " (1819, 0.2956521739130435),\n",
       " (1820, 0.36231884057971014),\n",
       " (1821, 0.3944954128440367),\n",
       " (1822, 0.4330357142857143),\n",
       " (1823, 0.4166666666666667),\n",
       " (1824, 0.4497816593886463),\n",
       " (1825, 0.4528301886792453),\n",
       " (1826, 0.45692883895131087),\n",
       " (1827, 0.453416149068323),\n",
       " (1828, 0.40942028985507245),\n",
       " (1829, 0.5525672371638142),\n",
       " (1830, 0.5132275132275133),\n",
       " (1831, 0.46357615894039733),\n",
       " (1832, 0.4758485639686684),\n",
       " (1833, 0.4027777777777778),\n",
       " (1834, 0.3865979381443299),\n",
       " (1835, 0.4020618556701031),\n",
       " (1836, 0.47126436781609193),\n",
       " (1837, 0.4551083591331269),\n",
       " (1838, 0.44285714285714284),\n",
       " (1839, 0.46742209631728043),\n",
       " (1840, 0.44730679156908665),\n",
       " (1841, 0.4764705882352941),\n",
       " (1842, 0.3987138263665595),\n",
       " (1843, 0.3629242819843342),\n",
       " (1844, 0.3914027149321267),\n",
       " (1845, 0.3799019607843137),\n",
       " (1846, 0.42524916943521596),\n",
       " (1847, 0.44751381215469616),\n",
       " (1848, 0.4563279857397504),\n",
       " (1849, 0.49911504424778763),\n",
       " (1850, 0.5127850725639254),\n",
       " (1851, 0.4552169898430286),\n",
       " (1852, 0.3415929203539823),\n",
       " (1853, 0.3356009070294785),\n",
       " (1854, 0.39676840215439857),\n",
       " (1855, 0.45987654320987653),\n",
       " (1856, 0.3638211382113821),\n",
       " (1857, 0.3016949152542373),\n",
       " (1858, 0.34120734908136485),\n",
       " (1859, 0.31866197183098594),\n",
       " (1860, 0.4204355108877722),\n",
       " (1861, 0.2796934865900383),\n",
       " (1862, 0.37797619047619047),\n",
       " (1863, 0.3273542600896861),\n",
       " (1864, 0.3914285714285714),\n",
       " (1865, 0.3628048780487805),\n",
       " (1866, 0.3231046931407942),\n",
       " (1867, 0.2922794117647059),\n",
       " (1868, 0.25996533795493937),\n",
       " (1869, 0.36293436293436293),\n",
       " (1870, 0.4588283490372798),\n",
       " (1871, 0.35294117647058826),\n",
       " (1872, 0.3393574297188755),\n",
       " (1873, 0.34790874524714827),\n",
       " (1874, 0.3137254901960784),\n",
       " (1875, 0.32242424242424245),\n",
       " (1876, 0.3899018232819074),\n",
       " (1877, 0.33868092691622104),\n",
       " (1878, 0.3218588640275387),\n",
       " (1879, 0.2771317829457364),\n",
       " (1880, 0.32441942294159043),\n",
       " (1881, 0.3941018766756032),\n",
       " (1882, 0.39270516717325227),\n",
       " (1883, 0.33664185277088504),\n",
       " (1884, 0.3088082901554404),\n",
       " (1885, 0.36550491510277033),\n",
       " (1886, 0.31208053691275167),\n",
       " (1887, 0.34765998089780326),\n",
       " (1888, 0.3674976915974146),\n",
       " (1889, 0.33913764510779437),\n",
       " (1890, 0.40193370165745856),\n",
       " (1891, 0.3648036253776435),\n",
       " (1892, 0.33719135802469136),\n",
       " (1893, 0.3194774346793349),\n",
       " (1894, 0.34918200408997957),\n",
       " (1895, 0.3335411471321696),\n",
       " (1896, 0.31839258114374036),\n",
       " (1897, 0.3802910052910053),\n",
       " (1898, 0.3494335122242099),\n",
       " (1899, 0.39287410926365796),\n",
       " (1900, 0.36567438441749356),\n",
       " (1901, 0.3555672268907563),\n",
       " (1902, 0.3732552904097253),\n",
       " (1903, 0.3380281690140845),\n",
       " (1904, 0.3447204968944099),\n",
       " (1905, 0.3808437856328392),\n",
       " (1906, 0.35702005730659025),\n",
       " (1907, 0.38974358974358975),\n",
       " (1908, 0.3654178674351585),\n",
       " (1909, 0.32681818181818184),\n",
       " (1910, 0.36441717791411044),\n",
       " (1911, 0.372845953002611),\n",
       " (1912, 0.3399111988159842),\n",
       " (1913, 0.33493743984600577),\n",
       " (1914, 0.3870967741935484),\n",
       " (1915, 0.35792174470814625),\n",
       " (1916, 0.40473172792564427),\n",
       " (1917, 0.3542682926829268),\n",
       " (1918, 0.34941967012828345),\n",
       " (1919, 0.3856733524355301),\n",
       " (1920, 0.375936329588015),\n",
       " (1921, 0.3859041016753322),\n",
       " (1922, 0.3683083511777302),\n",
       " (1923, 0.5819750719079578),\n",
       " (1924, 0.6320987654320988),\n",
       " (1925, 0.5821428571428572),\n",
       " (1926, 0.5687645687645687),\n",
       " (1927, 0.5878787878787879),\n",
       " (1928, 0.5802690582959641),\n",
       " (1929, 0.5628930817610063),\n",
       " (1930, 0.5543307086614173),\n",
       " (1931, 0.6012526096033403),\n",
       " (1932, 0.5976190476190476),\n",
       " (1933, 0.6284348864994026),\n",
       " (1934, 0.593198992443325),\n",
       " (1935, 0.6112730806608357),\n",
       " (1936, 0.5578168362627197),\n",
       " (1937, 0.5772773797338793),\n",
       " (1938, 0.531390134529148),\n",
       " (1939, 0.5677966101694916),\n",
       " (1940, 0.5958188153310104),\n",
       " (1941, 0.5591397849462365),\n",
       " (1942, 0.6062176165803109),\n",
       " (1943, 0.5401069518716578),\n",
       " (1944, 0.5395590142671854),\n",
       " (1945, 0.5167630057803468),\n",
       " (1946, 0.5287356321839081),\n",
       " (1947, 0.5877729257641922),\n",
       " (1948, 0.5611428571428572),\n",
       " (1949, 0.5545350172215844),\n",
       " (1950, 0.5664794007490637),\n",
       " (1951, 0.5732600732600732),\n",
       " (1952, 0.5482625482625483),\n",
       " (1953, 0.5553416746871992),\n",
       " (1954, 0.5615062761506276),\n",
       " (1955, 0.5789473684210527),\n",
       " (1956, 0.5437987857762359),\n",
       " (1957, 0.5925324675324676),\n",
       " (1958, 0.5869565217391305),\n",
       " (1959, 0.5387420237010028),\n",
       " (1960, 0.5998415213946118),\n",
       " (1961, 0.5602716468590832),\n",
       " (1962, 0.5732009925558312),\n",
       " (1963, 0.5200984413453651),\n",
       " (1964, 0.537182852143482),\n",
       " (1965, 0.5620496397117695),\n",
       " (1966, 0.5580828594638505),\n",
       " (1967, 0.5473126419379258),\n",
       " (1968, 0.7199155524278676),\n",
       " (1969, 0.7435294117647059),\n",
       " (1970, 0.7471439451637472),\n",
       " (1971, 0.7202602230483272),\n",
       " (1972, 0.7640807651434643),\n",
       " (1973, 0.7451327433628319),\n",
       " (1974, 0.7398843930635838),\n",
       " (1975, 0.7573385518590998),\n",
       " (1976, 0.7998129092609916),\n",
       " (1977, 0.7793040293040293),\n",
       " (1978, 0.7936096718480138),\n",
       " (1979, 0.7924050632911392),\n",
       " (1980, 0.7809090909090909),\n",
       " (1981, 0.8395967002749771),\n",
       " (1982, 0.7994296577946768),\n",
       " (1983, 0.8217636022514071),\n",
       " (1984, 0.7762039660056658),\n",
       " (1985, 0.803763440860215),\n",
       " (1986, 0.8109869646182495),\n",
       " (1987, 0.834345186470078),\n",
       " (1988, 0.8385043754972156),\n",
       " (1989, 0.8249641319942611),\n",
       " (1990, 0.8114926419060967),\n",
       " (1991, 0.8121387283236994),\n",
       " (1992, 0.7983569828230023),\n",
       " (1993, 0.8251582278481012),\n",
       " (1994, 0.8421433743664012),\n",
       " (1995, 0.8631821675634127),\n",
       " (1996, 0.8543096872616324),\n",
       " (1997, 0.8847530422333572),\n",
       " (1998, 0.8421450151057401),\n",
       " (1999, 0.8599683544303798),\n",
       " (2000, 0.8637395912187736),\n",
       " (2001, 0.867109634551495),\n",
       " (2002, 0.897370653095844),\n",
       " (2003, 0.908235294117647),\n",
       " (2004, 0.8964773544212796),\n",
       " (2005, 0.8982169390787519),\n",
       " (2006, 0.8971428571428571),\n",
       " (2007, 0.8916184971098265)]"
      ]
     },
     "execution_count": 19,
     "metadata": {},
     "output_type": "execute_result"
    }
   ],
   "source": [
    "[x1 for x1 in zip(x, y)]"
   ]
  },
  {
   "cell_type": "code",
   "execution_count": 20,
   "metadata": {
    "collapsed": true
   },
   "outputs": [],
   "source": [
    "import seaborn as sns\n",
    "sns.set()"
   ]
  },
  {
   "cell_type": "code",
   "execution_count": 37,
   "metadata": {},
   "outputs": [
    {
     "data": {
      "image/png": "[encoded data removed]",
      "text/plain": [
       "<matplotlib.figure.Figure at 0x123083588>"
      ]
     },
     "metadata": {},
     "output_type": "display_data"
    }
   ],
   "source": [
    "toplot = pd.DataFrame({'date': x, 'labeled': y})\n",
    "sns.set_style(\"darkgrid\")\n",
    "fig, ax = plt.subplots(figsize = (8, 5))\n",
    "ax = plt.plot(x, y)\n",
    "plt.xlim(1800, 2010)\n",
    "plt.savefig('percentlabeledfic.png', bbox_inches = 'tight')\n",
    "plt.show()"
   ]
  },
  {
   "cell_type": "code",
   "execution_count": 39,
   "metadata": {},
   "outputs": [
    {
     "data": {
      "text/plain": [
       "(138137, 27)"
      ]
     },
     "execution_count": 39,
     "metadata": {},
     "output_type": "execute_result"
    }
   ],
   "source": [
    "work.shape"
   ]
  },
  {
   "cell_type": "code",
   "execution_count": null,
   "metadata": {
    "collapsed": true
   },
   "outputs": [],
   "source": []
  }
 ],
 "metadata": {
  "anaconda-cloud": {},
  "kernelspec": {
   "display_name": "Python 3",
   "language": "python",
   "name": "python3"
  },
  "language_info": {
   "codemirror_mode": {
    "name": "ipython",
    "version": 3
   },
   "file_extension": ".py",
   "mimetype": "text/x-python",
   "name": "python",
   "nbconvert_exporter": "python",
   "pygments_lexer": "ipython3",
   "version": "3.5.2"
  }
 },
 "nbformat": 4,
 "nbformat_minor": 1
}
