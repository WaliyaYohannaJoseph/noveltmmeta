{
 "cells": [
  {
   "cell_type": "code",
   "execution_count": 15,
   "metadata": {},
   "outputs": [],
   "source": [
    "import pandas as pd\n",
    "from matplotlib import pyplot as plt\n",
    "%matplotlib inline"
   ]
  },
  {
   "cell_type": "code",
   "execution_count": 17,
   "metadata": {},
   "outputs": [
    {
     "data": {
      "text/html": [
       "<div>\n",
       "<style scoped>\n",
       "    .dataframe tbody tr th:only-of-type {\n",
       "        vertical-align: middle;\n",
       "    }\n",
       "\n",
       "    .dataframe tbody tr th {\n",
       "        vertical-align: top;\n",
       "    }\n",
       "\n",
       "    .dataframe thead th {\n",
       "        text-align: right;\n",
       "    }\n",
       "</style>\n",
       "<table border=\"1\" class=\"dataframe\">\n",
       "  <thead>\n",
       "    <tr style=\"text-align: right;\">\n",
       "      <th></th>\n",
       "      <th>allwords</th>\n",
       "      <th>stanfordwords</th>\n",
       "    </tr>\n",
       "    <tr>\n",
       "      <th>docid</th>\n",
       "      <th></th>\n",
       "      <th></th>\n",
       "    </tr>\n",
       "  </thead>\n",
       "  <tbody>\n",
       "    <tr>\n",
       "      <th>mdp.39015063561586</th>\n",
       "      <td>57056.0</td>\n",
       "      <td>1586.0</td>\n",
       "    </tr>\n",
       "    <tr>\n",
       "      <th>uiuo.ark+=13960=t8nc6b618</th>\n",
       "      <td>47093.0</td>\n",
       "      <td>1138.0</td>\n",
       "    </tr>\n",
       "    <tr>\n",
       "      <th>uc1.$b473613</th>\n",
       "      <td>84661.0</td>\n",
       "      <td>4248.0</td>\n",
       "    </tr>\n",
       "    <tr>\n",
       "      <th>nyp.33433074931597</th>\n",
       "      <td>73251.0</td>\n",
       "      <td>2434.0</td>\n",
       "    </tr>\n",
       "    <tr>\n",
       "      <th>loc.ark+=13960=t08w4945p</th>\n",
       "      <td>3260.0</td>\n",
       "      <td>136.0</td>\n",
       "    </tr>\n",
       "  </tbody>\n",
       "</table>\n",
       "</div>"
      ],
      "text/plain": [
       "                           allwords  stanfordwords\n",
       "docid                                             \n",
       "mdp.39015063561586          57056.0         1586.0\n",
       "uiuo.ark+=13960=t8nc6b618   47093.0         1138.0\n",
       "uc1.$b473613                84661.0         4248.0\n",
       "nyp.33433074931597          73251.0         2434.0\n",
       "loc.ark+=13960=t08w4945p     3260.0          136.0"
      ]
     },
     "execution_count": 17,
     "metadata": {},
     "output_type": "execute_result"
    }
   ],
   "source": [
    "old = pd.read_csv('../data/oldweightedstanford.tsv', sep = '\\t', index_col = 'docid')\n",
    "old.head()"
   ]
  },
  {
   "cell_type": "code",
   "execution_count": 22,
   "metadata": {},
   "outputs": [
    {
     "data": {
      "text/html": [
       "<div>\n",
       "<style scoped>\n",
       "    .dataframe tbody tr th:only-of-type {\n",
       "        vertical-align: middle;\n",
       "    }\n",
       "\n",
       "    .dataframe tbody tr th {\n",
       "        vertical-align: top;\n",
       "    }\n",
       "\n",
       "    .dataframe thead th {\n",
       "        text-align: right;\n",
       "    }\n",
       "</style>\n",
       "<table border=\"1\" class=\"dataframe\">\n",
       "  <thead>\n",
       "    <tr style=\"text-align: right;\">\n",
       "      <th></th>\n",
       "      <th>allwords</th>\n",
       "      <th>stanfordwords</th>\n",
       "    </tr>\n",
       "    <tr>\n",
       "      <th>docid</th>\n",
       "      <th></th>\n",
       "      <th></th>\n",
       "    </tr>\n",
       "  </thead>\n",
       "  <tbody>\n",
       "    <tr>\n",
       "      <th>mdp.39015063561586</th>\n",
       "      <td>57056.0</td>\n",
       "      <td>1618.0</td>\n",
       "    </tr>\n",
       "    <tr>\n",
       "      <th>uiuo.ark+=13960=t8nc6b618</th>\n",
       "      <td>47092.0</td>\n",
       "      <td>1150.0</td>\n",
       "    </tr>\n",
       "    <tr>\n",
       "      <th>uc1.$b473613</th>\n",
       "      <td>84661.0</td>\n",
       "      <td>4255.0</td>\n",
       "    </tr>\n",
       "    <tr>\n",
       "      <th>nyp.33433074931597</th>\n",
       "      <td>73251.0</td>\n",
       "      <td>2437.0</td>\n",
       "    </tr>\n",
       "    <tr>\n",
       "      <th>loc.ark+=13960=t08w4945p</th>\n",
       "      <td>3260.0</td>\n",
       "      <td>137.0</td>\n",
       "    </tr>\n",
       "  </tbody>\n",
       "</table>\n",
       "</div>"
      ],
      "text/plain": [
       "                           allwords  stanfordwords\n",
       "docid                                             \n",
       "mdp.39015063561586          57056.0         1618.0\n",
       "uiuo.ark+=13960=t8nc6b618   47092.0         1150.0\n",
       "uc1.$b473613                84661.0         4255.0\n",
       "nyp.33433074931597          73251.0         2437.0\n",
       "loc.ark+=13960=t08w4945p     3260.0          137.0"
      ]
     },
     "execution_count": 22,
     "metadata": {},
     "output_type": "execute_result"
    }
   ],
   "source": [
    "new = pd.read_csv('../data/weightedstanford.tsv', sep = '\\t', index_col = 'docid')\n",
    "new.head()"
   ]
  },
  {
   "cell_type": "code",
   "execution_count": 23,
   "metadata": {},
   "outputs": [
    {
     "data": {
      "text/html": [
       "<div>\n",
       "<style scoped>\n",
       "    .dataframe tbody tr th:only-of-type {\n",
       "        vertical-align: middle;\n",
       "    }\n",
       "\n",
       "    .dataframe tbody tr th {\n",
       "        vertical-align: top;\n",
       "    }\n",
       "\n",
       "    .dataframe thead th {\n",
       "        text-align: right;\n",
       "    }\n",
       "</style>\n",
       "<table border=\"1\" class=\"dataframe\">\n",
       "  <thead>\n",
       "    <tr style=\"text-align: right;\">\n",
       "      <th></th>\n",
       "      <th>allwords</th>\n",
       "      <th>stanfordwords</th>\n",
       "      <th>ratio</th>\n",
       "    </tr>\n",
       "    <tr>\n",
       "      <th>docid</th>\n",
       "      <th></th>\n",
       "      <th></th>\n",
       "      <th></th>\n",
       "    </tr>\n",
       "  </thead>\n",
       "  <tbody>\n",
       "    <tr>\n",
       "      <th>mdp.39015063561586</th>\n",
       "      <td>57056.0</td>\n",
       "      <td>1618.0</td>\n",
       "      <td>0.028358</td>\n",
       "    </tr>\n",
       "    <tr>\n",
       "      <th>uiuo.ark+=13960=t8nc6b618</th>\n",
       "      <td>47092.0</td>\n",
       "      <td>1150.0</td>\n",
       "      <td>0.024420</td>\n",
       "    </tr>\n",
       "    <tr>\n",
       "      <th>uc1.$b473613</th>\n",
       "      <td>84661.0</td>\n",
       "      <td>4255.0</td>\n",
       "      <td>0.050259</td>\n",
       "    </tr>\n",
       "    <tr>\n",
       "      <th>nyp.33433074931597</th>\n",
       "      <td>73251.0</td>\n",
       "      <td>2437.0</td>\n",
       "      <td>0.033269</td>\n",
       "    </tr>\n",
       "    <tr>\n",
       "      <th>loc.ark+=13960=t08w4945p</th>\n",
       "      <td>3260.0</td>\n",
       "      <td>137.0</td>\n",
       "      <td>0.042025</td>\n",
       "    </tr>\n",
       "  </tbody>\n",
       "</table>\n",
       "</div>"
      ],
      "text/plain": [
       "                           allwords  stanfordwords     ratio\n",
       "docid                                                       \n",
       "mdp.39015063561586          57056.0         1618.0  0.028358\n",
       "uiuo.ark+=13960=t8nc6b618   47092.0         1150.0  0.024420\n",
       "uc1.$b473613                84661.0         4255.0  0.050259\n",
       "nyp.33433074931597          73251.0         2437.0  0.033269\n",
       "loc.ark+=13960=t08w4945p     3260.0          137.0  0.042025"
      ]
     },
     "execution_count": 23,
     "metadata": {},
     "output_type": "execute_result"
    }
   ],
   "source": [
    "new['ratio'] = new.stanfordwords / new.allwords\n",
    "new.head()"
   ]
  },
  {
   "cell_type": "code",
   "execution_count": 24,
   "metadata": {},
   "outputs": [
    {
     "data": {
      "text/html": [
       "<div>\n",
       "<style scoped>\n",
       "    .dataframe tbody tr th:only-of-type {\n",
       "        vertical-align: middle;\n",
       "    }\n",
       "\n",
       "    .dataframe tbody tr th {\n",
       "        vertical-align: top;\n",
       "    }\n",
       "\n",
       "    .dataframe thead th {\n",
       "        text-align: right;\n",
       "    }\n",
       "</style>\n",
       "<table border=\"1\" class=\"dataframe\">\n",
       "  <thead>\n",
       "    <tr style=\"text-align: right;\">\n",
       "      <th></th>\n",
       "      <th>allwords</th>\n",
       "      <th>stanfordwords</th>\n",
       "      <th>ratio</th>\n",
       "    </tr>\n",
       "    <tr>\n",
       "      <th>docid</th>\n",
       "      <th></th>\n",
       "      <th></th>\n",
       "      <th></th>\n",
       "    </tr>\n",
       "  </thead>\n",
       "  <tbody>\n",
       "    <tr>\n",
       "      <th>mdp.39015063561586</th>\n",
       "      <td>57056.0</td>\n",
       "      <td>1586.0</td>\n",
       "      <td>0.027797</td>\n",
       "    </tr>\n",
       "    <tr>\n",
       "      <th>uiuo.ark+=13960=t8nc6b618</th>\n",
       "      <td>47093.0</td>\n",
       "      <td>1138.0</td>\n",
       "      <td>0.024165</td>\n",
       "    </tr>\n",
       "    <tr>\n",
       "      <th>uc1.$b473613</th>\n",
       "      <td>84661.0</td>\n",
       "      <td>4248.0</td>\n",
       "      <td>0.050177</td>\n",
       "    </tr>\n",
       "    <tr>\n",
       "      <th>nyp.33433074931597</th>\n",
       "      <td>73251.0</td>\n",
       "      <td>2434.0</td>\n",
       "      <td>0.033228</td>\n",
       "    </tr>\n",
       "    <tr>\n",
       "      <th>loc.ark+=13960=t08w4945p</th>\n",
       "      <td>3260.0</td>\n",
       "      <td>136.0</td>\n",
       "      <td>0.041718</td>\n",
       "    </tr>\n",
       "  </tbody>\n",
       "</table>\n",
       "</div>"
      ],
      "text/plain": [
       "                           allwords  stanfordwords     ratio\n",
       "docid                                                       \n",
       "mdp.39015063561586          57056.0         1586.0  0.027797\n",
       "uiuo.ark+=13960=t8nc6b618   47093.0         1138.0  0.024165\n",
       "uc1.$b473613                84661.0         4248.0  0.050177\n",
       "nyp.33433074931597          73251.0         2434.0  0.033228\n",
       "loc.ark+=13960=t08w4945p     3260.0          136.0  0.041718"
      ]
     },
     "execution_count": 24,
     "metadata": {},
     "output_type": "execute_result"
    }
   ],
   "source": [
    "old['ratio'] = old.stanfordwords / old.allwords\n",
    "old.head()"
   ]
  },
  {
   "cell_type": "code",
   "execution_count": 25,
   "metadata": {},
   "outputs": [
    {
     "data": {
      "text/html": [
       "<div>\n",
       "<style scoped>\n",
       "    .dataframe tbody tr th:only-of-type {\n",
       "        vertical-align: middle;\n",
       "    }\n",
       "\n",
       "    .dataframe tbody tr th {\n",
       "        vertical-align: top;\n",
       "    }\n",
       "\n",
       "    .dataframe thead th {\n",
       "        text-align: right;\n",
       "    }\n",
       "</style>\n",
       "<table border=\"1\" class=\"dataframe\">\n",
       "  <thead>\n",
       "    <tr style=\"text-align: right;\">\n",
       "      <th></th>\n",
       "      <th>allwords</th>\n",
       "      <th>stanfordwords</th>\n",
       "      <th>ratio</th>\n",
       "      <th>diff</th>\n",
       "    </tr>\n",
       "    <tr>\n",
       "      <th>docid</th>\n",
       "      <th></th>\n",
       "      <th></th>\n",
       "      <th></th>\n",
       "      <th></th>\n",
       "    </tr>\n",
       "  </thead>\n",
       "  <tbody>\n",
       "    <tr>\n",
       "      <th>mdp.39015063561586</th>\n",
       "      <td>57056.0</td>\n",
       "      <td>1618.0</td>\n",
       "      <td>0.028358</td>\n",
       "      <td>0.000561</td>\n",
       "    </tr>\n",
       "    <tr>\n",
       "      <th>uiuo.ark+=13960=t8nc6b618</th>\n",
       "      <td>47092.0</td>\n",
       "      <td>1150.0</td>\n",
       "      <td>0.024420</td>\n",
       "      <td>0.000255</td>\n",
       "    </tr>\n",
       "    <tr>\n",
       "      <th>uc1.$b473613</th>\n",
       "      <td>84661.0</td>\n",
       "      <td>4255.0</td>\n",
       "      <td>0.050259</td>\n",
       "      <td>0.000083</td>\n",
       "    </tr>\n",
       "    <tr>\n",
       "      <th>nyp.33433074931597</th>\n",
       "      <td>73251.0</td>\n",
       "      <td>2437.0</td>\n",
       "      <td>0.033269</td>\n",
       "      <td>0.000041</td>\n",
       "    </tr>\n",
       "    <tr>\n",
       "      <th>loc.ark+=13960=t08w4945p</th>\n",
       "      <td>3260.0</td>\n",
       "      <td>137.0</td>\n",
       "      <td>0.042025</td>\n",
       "      <td>0.000307</td>\n",
       "    </tr>\n",
       "  </tbody>\n",
       "</table>\n",
       "</div>"
      ],
      "text/plain": [
       "                           allwords  stanfordwords     ratio      diff\n",
       "docid                                                                 \n",
       "mdp.39015063561586          57056.0         1618.0  0.028358  0.000561\n",
       "uiuo.ark+=13960=t8nc6b618   47092.0         1150.0  0.024420  0.000255\n",
       "uc1.$b473613                84661.0         4255.0  0.050259  0.000083\n",
       "nyp.33433074931597          73251.0         2437.0  0.033269  0.000041\n",
       "loc.ark+=13960=t08w4945p     3260.0          137.0  0.042025  0.000307"
      ]
     },
     "execution_count": 25,
     "metadata": {},
     "output_type": "execute_result"
    }
   ],
   "source": [
    "new['diff'] = new.ratio - old.ratio\n",
    "new.head()"
   ]
  },
  {
   "cell_type": "code",
   "execution_count": 26,
   "metadata": {},
   "outputs": [],
   "source": [
    "meta = pd.read_csv('../manuallists/weighted_subset.tsv', sep = '\\t', index_col = 'docid')"
   ]
  },
  {
   "cell_type": "code",
   "execution_count": 27,
   "metadata": {},
   "outputs": [
    {
     "data": {
      "text/plain": [
       "(3050, 5)"
      ]
     },
     "execution_count": 27,
     "metadata": {},
     "output_type": "execute_result"
    }
   ],
   "source": [
    "new = new.join(meta.firstpub, how = 'left')\n",
    "new.shape"
   ]
  },
  {
   "cell_type": "code",
   "execution_count": 31,
   "metadata": {},
   "outputs": [
    {
     "data": {
      "image/png": "[encoded data removed]",
      "text/plain": [
       "<matplotlib.figure.Figure at 0x11d73f908>"
      ]
     },
     "metadata": {},
     "output_type": "display_data"
    }
   ],
   "source": [
    "plt.scatter(new['firstpub'], new['diff'])\n",
    "plt.xlim(1790, 2000)\n",
    "plt.ylim(0, 0.01)\n",
    "plt.show()"
   ]
  },
  {
   "cell_type": "code",
   "execution_count": null,
   "metadata": {},
   "outputs": [],
   "source": []
  }
 ],
 "metadata": {
  "kernelspec": {
   "display_name": "Python 3",
   "language": "python",
   "name": "python3"
  },
  "language_info": {
   "codemirror_mode": {
    "name": "ipython",
    "version": 3
   },
   "file_extension": ".py",
   "mimetype": "text/x-python",
   "name": "python",
   "nbconvert_exporter": "python",
   "pygments_lexer": "ipython3",
   "version": "3.5.2"
  }
 },
 "nbformat": 4,
 "nbformat_minor": 2
}
