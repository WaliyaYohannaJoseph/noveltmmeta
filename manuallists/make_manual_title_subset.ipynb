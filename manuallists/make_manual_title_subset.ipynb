{
 "cells": [
  {
   "cell_type": "markdown",
   "metadata": {},
   "source": [
    "# Testing and merging the manual title subset\n",
    "\n",
    "This is the notebook that created List # 4 in the report, the \"manually-checked title subset.\""
   ]
  },
  {
   "cell_type": "code",
   "execution_count": 1,
   "metadata": {},
   "outputs": [],
   "source": [
    "import pandas as pd\n",
    "import numpy as np\n",
    "from matplotlib import pyplot as plt\n",
    "%matplotlib inline"
   ]
  },
  {
   "cell_type": "markdown",
   "metadata": {},
   "source": [
    "## Load the data, confirm basic format"
   ]
  },
  {
   "cell_type": "code",
   "execution_count": 9,
   "metadata": {},
   "outputs": [
    {
     "data": {
      "text/plain": [
       "(1200, 18)"
      ]
     },
     "execution_count": 9,
     "metadata": {},
     "output_type": "execute_result"
    }
   ],
   "source": [
    "j = pd.read_csv('titledata/jessica.csv')\n",
    "j.shape"
   ]
  },
  {
   "cell_type": "code",
   "execution_count": 38,
   "metadata": {},
   "outputs": [
    {
     "data": {
      "text/plain": [
       "(1200, 18)"
      ]
     },
     "execution_count": 38,
     "metadata": {},
     "output_type": "execute_result"
    }
   ],
   "source": [
    "p = pd.read_csv('titledata/patrick.csv')\n",
    "p.shape"
   ]
  },
  {
   "cell_type": "code",
   "execution_count": 11,
   "metadata": {},
   "outputs": [
    {
     "data": {
      "text/plain": [
       "(330, 18)"
      ]
     },
     "execution_count": 11,
     "metadata": {},
     "output_type": "execute_result"
    }
   ],
   "source": [
    "t = pd.read_csv('titledata/ted.tsv', sep = '\\t')\n",
    "t.shape"
   ]
  },
  {
   "cell_type": "code",
   "execution_count": 12,
   "metadata": {},
   "outputs": [
    {
     "data": {
      "text/plain": [
       "True"
      ]
     },
     "execution_count": 12,
     "metadata": {},
     "output_type": "execute_result"
    }
   ],
   "source": [
    "set(p.columns) == set(j.columns)"
   ]
  },
  {
   "cell_type": "code",
   "execution_count": 13,
   "metadata": {},
   "outputs": [
    {
     "data": {
      "text/plain": [
       "True"
      ]
     },
     "execution_count": 13,
     "metadata": {},
     "output_type": "execute_result"
    }
   ],
   "source": [
    "set(p.columns) == set(t.columns)"
   ]
  },
  {
   "cell_type": "markdown",
   "metadata": {},
   "source": [
    "## Confirm that values match our data dictionary"
   ]
  },
  {
   "cell_type": "code",
   "execution_count": 15,
   "metadata": {},
   "outputs": [
    {
     "data": {
      "text/plain": [
       "{'f', 'm', 'u', nan, 'o'}"
      ]
     },
     "execution_count": 15,
     "metadata": {},
     "output_type": "execute_result"
    }
   ],
   "source": [
    "set(j.gender)"
   ]
  },
  {
   "cell_type": "code",
   "execution_count": 16,
   "metadata": {},
   "outputs": [
    {
     "data": {
      "text/plain": [
       "{'f', 'm', 'u', nan}"
      ]
     },
     "execution_count": 16,
     "metadata": {},
     "output_type": "execute_result"
    }
   ],
   "source": [
    "set(p.gender)"
   ]
  },
  {
   "cell_type": "code",
   "execution_count": 23,
   "metadata": {},
   "outputs": [
    {
     "data": {
      "text/plain": [
       "{nan, 'm', 'f'}"
      ]
     },
     "execution_count": 23,
     "metadata": {},
     "output_type": "execute_result"
    }
   ],
   "source": [
    "set(t.gender)"
   ]
  },
  {
   "cell_type": "markdown",
   "metadata": {},
   "source": [
    "In practice, there is no difference between 'u' and nan; they both mean we don't know. The only difference between 'o' and 'u,' in this data, is that Jessica has used 'o' in five cases of multiple authorship; the other readers have not done the same thing, so we can't consistently maintain that distinction as part of the dictionary."
   ]
  },
  {
   "cell_type": "code",
   "execution_count": 25,
   "metadata": {},
   "outputs": [],
   "source": [
    "j.loc[j.gender == 'o', 'gender'] = 'u'"
   ]
  },
  {
   "cell_type": "code",
   "execution_count": 26,
   "metadata": {},
   "outputs": [
    {
     "data": {
      "text/plain": [
       "{'f', 'm', 'u', nan}"
      ]
     },
     "execution_count": 26,
     "metadata": {},
     "output_type": "execute_result"
    }
   ],
   "source": [
    "set(j.gender)"
   ]
  },
  {
   "cell_type": "code",
   "execution_count": 32,
   "metadata": {},
   "outputs": [],
   "source": [
    "j['gender'] = j['gender'].fillna(value = 'u')\n"
   ]
  },
  {
   "cell_type": "code",
   "execution_count": 39,
   "metadata": {},
   "outputs": [],
   "source": [
    "p['gender'] = p['gender'].fillna(value = 'u')"
   ]
  },
  {
   "cell_type": "code",
   "execution_count": 29,
   "metadata": {},
   "outputs": [],
   "source": [
    "t['gender'] = t['gender'].fillna(value = 'u')"
   ]
  },
  {
   "cell_type": "markdown",
   "metadata": {},
   "source": [
    "There's one row where Jessica has double-listed nationality to address dual authorship. This is not something we've done consistently, so let's flatten it out to a single value."
   ]
  },
  {
   "cell_type": "code",
   "execution_count": 34,
   "metadata": {},
   "outputs": [],
   "source": [
    "j.loc[j.nationality == 'us| us', 'nationality'] = 'us'"
   ]
  },
  {
   "cell_type": "markdown",
   "metadata": {},
   "source": [
    "**category**\n",
    "\n",
    "According to our data dictionary in process.md https://github.com/tedunderwood/meta2018/blob/master/process.md the allowable codes here are\n",
    "\n",
    "    nonfic\n",
    "    reprint\n",
    "    novel\n",
    "    poetry\n",
    "    shortstories\n",
    "    juvenile\n",
    "\n",
    "In subsequent conversation we added\n",
    "\n",
    "    drama, and\n",
    "    shortstories|juvenile\n",
    "    juvenile|shortstories (order doesn't matter here)"
   ]
  },
  {
   "cell_type": "code",
   "execution_count": 40,
   "metadata": {},
   "outputs": [
    {
     "data": {
      "text/plain": [
       "{'juvenile',\n",
       " 'juvenile|novel',\n",
       " 'juvenile|shortstories',\n",
       " 'nonfic',\n",
       " 'nonfic|juvenile',\n",
       " 'nonfic|poetry',\n",
       " 'novel',\n",
       " 'novel|juvenile',\n",
       " 'poetry',\n",
       " 'reprint',\n",
       " 'shortstories',\n",
       " 'shortstories|juvenile',\n",
       " 'shortstories|poetry'}"
      ]
     },
     "execution_count": 40,
     "metadata": {},
     "output_type": "execute_result"
    }
   ],
   "source": [
    "set(p.category)"
   ]
  },
  {
   "cell_type": "code",
   "execution_count": 42,
   "metadata": {},
   "outputs": [
    {
     "data": {
      "text/plain": [
       "1"
      ]
     },
     "execution_count": 42,
     "metadata": {},
     "output_type": "execute_result"
    }
   ],
   "source": [
    "sum(pd.isnull(j.category))"
   ]
  },
  {
   "cell_type": "code",
   "execution_count": 45,
   "metadata": {},
   "outputs": [
    {
     "data": {
      "text/plain": [
       "207                                     Leslie, Madeline\n",
       "208                                     Emerson, Alice B\n",
       "209                          Longfellow, Henry Wadsworth\n",
       "210                                   Scott, Walter, Sir\n",
       "211                                          Wood, Ellen\n",
       "212             James, G. P. R. (George Payne Rainsford)\n",
       "213                            Bacheller, Irving Addison\n",
       "214                                        Francis, M. E\n",
       "215                                          Owen, Frank\n",
       "216                                      Morris, Charles\n",
       "217                              Johnson, Helen Kendrick\n",
       "218                                          Peel, Doris\n",
       "219                                  Goldsmith, Martin M\n",
       "220          Champney, Elizabeth W. (Elizabeth Williams)\n",
       "221                          Pounds, Jessie Hunter Brown\n",
       "222                         Pepys, Charlotte Maria, Lady\n",
       "223                               Russell, William Clark\n",
       "224             Landon, Melville D. (Melville De Lancey)\n",
       "225                                             Algernon\n",
       "226                                Opie, Amelia Alderson\n",
       "227                                       Lamb, Caroline\n",
       "228                                      Morris, William\n",
       "229                                              Carlyon\n",
       "230                     Atherton, Gertrude Franklin Horn\n",
       "231                                   Jefferies, Richard\n",
       "232               Southworth, Emma Dorothy Eliza Nevitte\n",
       "233                                       Gaspey, Thomas\n",
       "234                              Bullett, Gerald William\n",
       "235                                       Adams, William\n",
       "236                                         Carey, Peter\n",
       "                             ...                        \n",
       "300                            Norris, Kathleen Thompson\n",
       "301                                Coles, Manning, pseud\n",
       "302                              Lockhart, Laurence W. M\n",
       "303                                     Andrews, Charles\n",
       "304                                   Sanders, Charlotte\n",
       "305                                   Higgins, Charles J\n",
       "306                                         Grey, Oliver\n",
       "307                                        Oxenham, John\n",
       "308                     Rotor, Arturo B (Arturo Belleza)\n",
       "309                             Haugaard, Erik Christian\n",
       "310                               Morgan, (Sydney), Lady\n",
       "311                              Maturin, Charles Robert\n",
       "312                                      Pigott, Harriet\n",
       "313             James, G. P. R. (George Payne Rainsford)\n",
       "314                                 Hawthorne, Nathaniel\n",
       "315                                     Kipling, Rudyard\n",
       "316                         Lewis, C. S. (Clive Staples)\n",
       "317                                 Schoolland, Marian M\n",
       "318                                       Huxley, Aldous\n",
       "319    Marie, Queen, consort of Ferdinand I, King of ...\n",
       "320                            Trollope, Thomas Adolphus\n",
       "321                                    Rinaldi, Nicholas\n",
       "322                                               Warner\n",
       "323                                                  NaN\n",
       "324                                      King, Alexander\n",
       "325                                                  NaN\n",
       "326                       Kellett, E. E. (Ernest Edward)\n",
       "327                                        Morrow, James\n",
       "328                        Ridge, W. Pett (William Pett)\n",
       "329                                    Hitchens, Dolores\n",
       "Name: author, Length: 123, dtype: object"
      ]
     },
     "execution_count": 45,
     "metadata": {},
     "output_type": "execute_result"
    }
   ],
   "source": [
    "t.loc[pd.isnull(t.category), 'author']"
   ]
  },
  {
   "cell_type": "code",
   "execution_count": 44,
   "metadata": {},
   "outputs": [
    {
     "data": {
      "text/plain": [
       "{nan,\n",
       " 'novel',\n",
       " 'juvenile',\n",
       " 'nonfic',\n",
       " 'reprint',\n",
       " 'shortstories',\n",
       " 'drama',\n",
       " 'poetry'}"
      ]
     },
     "execution_count": 44,
     "metadata": {},
     "output_type": "execute_result"
    }
   ],
   "source": [
    "set(t.category)"
   ]
  },
  {
   "cell_type": "code",
   "execution_count": null,
   "metadata": {},
   "outputs": [],
   "source": []
  }
 ],
 "metadata": {
  "kernelspec": {
   "display_name": "Python 3",
   "language": "python",
   "name": "python3"
  },
  "language_info": {
   "codemirror_mode": {
    "name": "ipython",
    "version": 3
   },
   "file_extension": ".py",
   "mimetype": "text/x-python",
   "name": "python",
   "nbconvert_exporter": "python",
   "pygments_lexer": "ipython3",
   "version": "3.5.2"
  }
 },
 "nbformat": 4,
 "nbformat_minor": 2
}
