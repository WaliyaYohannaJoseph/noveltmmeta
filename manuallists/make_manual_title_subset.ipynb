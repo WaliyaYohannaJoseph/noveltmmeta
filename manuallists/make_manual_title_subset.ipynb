{
 "cells": [
  {
   "cell_type": "markdown",
   "metadata": {},
   "source": [
    "# Testing and merging the manual title subset\n",
    "\n",
    "This is the notebook that created List # 4 in the report, the \"manually-checked title subset.\""
   ]
  },
  {
   "cell_type": "code",
   "execution_count": 1,
   "metadata": {},
   "outputs": [],
   "source": [
    "import pandas as pd\n",
    "import numpy as np\n",
    "from matplotlib import pyplot as plt\n",
    "%matplotlib inline"
   ]
  },
  {
   "cell_type": "markdown",
   "metadata": {},
   "source": [
    "## Load the data, confirm basic format"
   ]
  },
  {
   "cell_type": "code",
   "execution_count": 2,
   "metadata": {},
   "outputs": [
    {
     "data": {
      "text/plain": [
       "(1200, 18)"
      ]
     },
     "execution_count": 2,
     "metadata": {},
     "output_type": "execute_result"
    }
   ],
   "source": [
    "j = pd.read_csv('titledata/jessica.csv')\n",
    "j.shape"
   ]
  },
  {
   "cell_type": "code",
   "execution_count": 3,
   "metadata": {},
   "outputs": [
    {
     "data": {
      "text/plain": [
       "(1200, 18)"
      ]
     },
     "execution_count": 3,
     "metadata": {},
     "output_type": "execute_result"
    }
   ],
   "source": [
    "p = pd.read_csv('titledata/patrick.csv')\n",
    "p.shape"
   ]
  },
  {
   "cell_type": "code",
   "execution_count": 4,
   "metadata": {},
   "outputs": [
    {
     "data": {
      "text/plain": [
       "(330, 18)"
      ]
     },
     "execution_count": 4,
     "metadata": {},
     "output_type": "execute_result"
    }
   ],
   "source": [
    "t = pd.read_csv('titledata/ted.tsv', sep = '\\t')\n",
    "t.shape"
   ]
  },
  {
   "cell_type": "code",
   "execution_count": 5,
   "metadata": {},
   "outputs": [
    {
     "data": {
      "text/plain": [
       "True"
      ]
     },
     "execution_count": 5,
     "metadata": {},
     "output_type": "execute_result"
    }
   ],
   "source": [
    "set(p.columns) == set(j.columns)"
   ]
  },
  {
   "cell_type": "code",
   "execution_count": 6,
   "metadata": {},
   "outputs": [
    {
     "data": {
      "text/plain": [
       "True"
      ]
     },
     "execution_count": 6,
     "metadata": {},
     "output_type": "execute_result"
    }
   ],
   "source": [
    "set(p.columns) == set(t.columns)"
   ]
  },
  {
   "cell_type": "markdown",
   "metadata": {},
   "source": [
    "## Confirm that values match our data dictionary"
   ]
  },
  {
   "cell_type": "code",
   "execution_count": 7,
   "metadata": {},
   "outputs": [
    {
     "data": {
      "text/plain": [
       "{'m', nan, 'u', 'o', 'f'}"
      ]
     },
     "execution_count": 7,
     "metadata": {},
     "output_type": "execute_result"
    }
   ],
   "source": [
    "set(j.gender)"
   ]
  },
  {
   "cell_type": "code",
   "execution_count": 8,
   "metadata": {},
   "outputs": [
    {
     "data": {
      "text/plain": [
       "{'m', nan, 'u', 'f'}"
      ]
     },
     "execution_count": 8,
     "metadata": {},
     "output_type": "execute_result"
    }
   ],
   "source": [
    "set(p.gender)"
   ]
  },
  {
   "cell_type": "code",
   "execution_count": 9,
   "metadata": {},
   "outputs": [
    {
     "data": {
      "text/plain": [
       "{nan, 'm', 'u', 'f'}"
      ]
     },
     "execution_count": 9,
     "metadata": {},
     "output_type": "execute_result"
    }
   ],
   "source": [
    "set(t.gender)"
   ]
  },
  {
   "cell_type": "markdown",
   "metadata": {},
   "source": [
    "In practice, there is no difference between 'u' and nan; they both mean we don't know. The only difference between 'o' and 'u,' in this data, is that Jessica has used 'o' in five cases of multiple authorship; the other readers have not done the same thing, so we can't consistently maintain that distinction as part of the dictionary."
   ]
  },
  {
   "cell_type": "code",
   "execution_count": 10,
   "metadata": {},
   "outputs": [],
   "source": [
    "j.loc[j.gender == 'o', 'gender'] = 'u'"
   ]
  },
  {
   "cell_type": "code",
   "execution_count": 11,
   "metadata": {},
   "outputs": [
    {
     "data": {
      "text/plain": [
       "{'m', nan, 'u', 'f'}"
      ]
     },
     "execution_count": 11,
     "metadata": {},
     "output_type": "execute_result"
    }
   ],
   "source": [
    "set(j.gender)"
   ]
  },
  {
   "cell_type": "code",
   "execution_count": 12,
   "metadata": {},
   "outputs": [],
   "source": [
    "j['gender'] = j['gender'].fillna(value = 'u')\n"
   ]
  },
  {
   "cell_type": "code",
   "execution_count": 13,
   "metadata": {},
   "outputs": [],
   "source": [
    "p['gender'] = p['gender'].fillna(value = 'u')"
   ]
  },
  {
   "cell_type": "code",
   "execution_count": 14,
   "metadata": {},
   "outputs": [],
   "source": [
    "t['gender'] = t['gender'].fillna(value = 'u')"
   ]
  },
  {
   "cell_type": "markdown",
   "metadata": {},
   "source": [
    "There's one row where Jessica has double-listed nationality to address dual authorship. This is not something we've done consistently, so let's flatten it out to a single value."
   ]
  },
  {
   "cell_type": "code",
   "execution_count": 15,
   "metadata": {},
   "outputs": [],
   "source": [
    "j.loc[j.nationality == 'us| us', 'nationality'] = 'us'"
   ]
  },
  {
   "cell_type": "markdown",
   "metadata": {},
   "source": [
    "**category**\n",
    "\n",
    "According to our data dictionary in process.md https://github.com/tedunderwood/meta2018/blob/master/process.md the allowable codes here are\n",
    "\n",
    "    nonfic\n",
    "    reprint\n",
    "    novel\n",
    "    poetry\n",
    "    shortstories\n",
    "    juvenile\n",
    "\n",
    "In subsequent conversation we added\n",
    "\n",
    "    drama, and\n",
    "    shortstories|juvenile\n",
    "    juvenile|shortstories (order doesn't matter here)"
   ]
  },
  {
   "cell_type": "code",
   "execution_count": 16,
   "metadata": {},
   "outputs": [
    {
     "data": {
      "text/plain": [
       "{'juvenile',\n",
       " 'juvenile|novel',\n",
       " 'juvenile|shortstories',\n",
       " 'nonfic',\n",
       " 'nonfic|juvenile',\n",
       " 'nonfic|poetry',\n",
       " 'novel',\n",
       " 'novel|juvenile',\n",
       " 'poetry',\n",
       " 'reprint',\n",
       " 'shortstories',\n",
       " 'shortstories|juvenile',\n",
       " 'shortstories|poetry'}"
      ]
     },
     "execution_count": 16,
     "metadata": {},
     "output_type": "execute_result"
    }
   ],
   "source": [
    "set(p.category)"
   ]
  },
  {
   "cell_type": "code",
   "execution_count": 17,
   "metadata": {},
   "outputs": [
    {
     "data": {
      "text/plain": [
       "0"
      ]
     },
     "execution_count": 17,
     "metadata": {},
     "output_type": "execute_result"
    }
   ],
   "source": [
    "sum(pd.isnull(j.category))"
   ]
  },
  {
   "cell_type": "code",
   "execution_count": 18,
   "metadata": {},
   "outputs": [
    {
     "data": {
      "text/plain": [
       "Series([], Name: author, dtype: object)"
      ]
     },
     "execution_count": 18,
     "metadata": {},
     "output_type": "execute_result"
    }
   ],
   "source": [
    "t.loc[pd.isnull(t.category), 'author']"
   ]
  },
  {
   "cell_type": "code",
   "execution_count": 19,
   "metadata": {},
   "outputs": [
    {
     "data": {
      "text/plain": [
       "{'drama', 'juvenile', 'nonfic', 'novel', 'poetry', 'reprint', 'shortstories'}"
      ]
     },
     "execution_count": 19,
     "metadata": {},
     "output_type": "execute_result"
    }
   ],
   "source": [
    "set(t.category)"
   ]
  },
  {
   "cell_type": "code",
   "execution_count": 20,
   "metadata": {},
   "outputs": [
    {
     "name": "stderr",
     "output_type": "stream",
     "text": [
      "/Users/tunder/miniconda3/lib/python3.5/site-packages/ipykernel/__main__.py:1: FutureWarning: Sorting because non-concatenation axis is not aligned. A future version\n",
      "of pandas will change to not sort by default.\n",
      "\n",
      "To accept the future behavior, pass 'sort=False'.\n",
      "\n",
      "To retain the current behavior and silence the warning, pass 'sort=True'.\n",
      "\n",
      "  if __name__ == '__main__':\n"
     ]
    },
    {
     "data": {
      "text/html": [
       "<div>\n",
       "<style scoped>\n",
       "    .dataframe tbody tr th:only-of-type {\n",
       "        vertical-align: middle;\n",
       "    }\n",
       "\n",
       "    .dataframe tbody tr th {\n",
       "        vertical-align: top;\n",
       "    }\n",
       "\n",
       "    .dataframe thead th {\n",
       "        text-align: right;\n",
       "    }\n",
       "</style>\n",
       "<table border=\"1\" class=\"dataframe\">\n",
       "  <thead>\n",
       "    <tr style=\"text-align: right;\">\n",
       "      <th></th>\n",
       "      <th>allcopiesofwork</th>\n",
       "      <th>author</th>\n",
       "      <th>authordate</th>\n",
       "      <th>category</th>\n",
       "      <th>copiesin25yrs</th>\n",
       "      <th>docid</th>\n",
       "      <th>enumcron</th>\n",
       "      <th>firstpub</th>\n",
       "      <th>gender</th>\n",
       "      <th>genres</th>\n",
       "      <th>imprint</th>\n",
       "      <th>inferreddate</th>\n",
       "      <th>latestcomp</th>\n",
       "      <th>nationality</th>\n",
       "      <th>pseudonym</th>\n",
       "      <th>realname</th>\n",
       "      <th>shorttitle</th>\n",
       "      <th>subjects</th>\n",
       "    </tr>\n",
       "  </thead>\n",
       "  <tbody>\n",
       "    <tr>\n",
       "      <th>0</th>\n",
       "      <td>1</td>\n",
       "      <td>Fraser, Peter</td>\n",
       "      <td>1932-</td>\n",
       "      <td>nonfic</td>\n",
       "      <td>1</td>\n",
       "      <td>mdp.49015000838012</td>\n",
       "      <td>NaN</td>\n",
       "      <td>1971.0</td>\n",
       "      <td>m</td>\n",
       "      <td>Bibliographies|NotFiction</td>\n",
       "      <td>Boston|Plays inc.|1971</td>\n",
       "      <td>1971</td>\n",
       "      <td>1971</td>\n",
       "      <td>us</td>\n",
       "      <td>NaN</td>\n",
       "      <td>NaN</td>\n",
       "      <td>Puppet circus</td>\n",
       "      <td>Puppet theater</td>\n",
       "    </tr>\n",
       "    <tr>\n",
       "      <th>1</th>\n",
       "      <td>5</td>\n",
       "      <td>Ferrier, Susan</td>\n",
       "      <td>1782-1854.</td>\n",
       "      <td>novel</td>\n",
       "      <td>3</td>\n",
       "      <td>mdp.39015063561586</td>\n",
       "      <td>v.2</td>\n",
       "      <td>1818.0</td>\n",
       "      <td>f</td>\n",
       "      <td>Bibliographies|Fiction</td>\n",
       "      <td>Edinburgh;W. Blackwood an</td>\n",
       "      <td>1818</td>\n",
       "      <td>1818</td>\n",
       "      <td>uk</td>\n",
       "      <td>NaN</td>\n",
       "      <td>Ferrier, Susan Edmonstone</td>\n",
       "      <td>Marriage, a novel</td>\n",
       "      <td>English fiction</td>\n",
       "    </tr>\n",
       "    <tr>\n",
       "      <th>2</th>\n",
       "      <td>1</td>\n",
       "      <td>Neri, Mary Anne</td>\n",
       "      <td>NaN</td>\n",
       "      <td>novel</td>\n",
       "      <td>1</td>\n",
       "      <td>uiuo.ark+=13960=t8nc6b618</td>\n",
       "      <td>v.1</td>\n",
       "      <td>1804.0</td>\n",
       "      <td>f</td>\n",
       "      <td>Novel|Fiction</td>\n",
       "      <td>London;Printed for T. Cad</td>\n",
       "      <td>1804</td>\n",
       "      <td>1804</td>\n",
       "      <td>it</td>\n",
       "      <td>NaN</td>\n",
       "      <td>Neri, Mary Anne</td>\n",
       "      <td>The eve of San-Pietro</td>\n",
       "      <td>NaN</td>\n",
       "    </tr>\n",
       "    <tr>\n",
       "      <th>3</th>\n",
       "      <td>1</td>\n",
       "      <td>Mann, Erika</td>\n",
       "      <td>1905-1969.</td>\n",
       "      <td>novel</td>\n",
       "      <td>1</td>\n",
       "      <td>uc1.$b473613</td>\n",
       "      <td>NaN</td>\n",
       "      <td>NaN</td>\n",
       "      <td>f</td>\n",
       "      <td>NotFiction</td>\n",
       "      <td>New York|Toronto|Farrar &amp;</td>\n",
       "      <td>1940</td>\n",
       "      <td>1940</td>\n",
       "      <td>de</td>\n",
       "      <td>NaN</td>\n",
       "      <td>Mann, Erika</td>\n",
       "      <td>The lights go down</td>\n",
       "      <td>Social life and customs</td>\n",
       "    </tr>\n",
       "    <tr>\n",
       "      <th>4</th>\n",
       "      <td>2</td>\n",
       "      <td>Forrester, Charles Robert</td>\n",
       "      <td>1803-1850.</td>\n",
       "      <td>juvenile</td>\n",
       "      <td>2</td>\n",
       "      <td>nyp.33433074931597</td>\n",
       "      <td>v. 2</td>\n",
       "      <td>NaN</td>\n",
       "      <td>m</td>\n",
       "      <td>NotFiction</td>\n",
       "      <td>London;R. Bentley;1843.</td>\n",
       "      <td>1843</td>\n",
       "      <td>1843</td>\n",
       "      <td>uk</td>\n",
       "      <td>Crowquill, Alfred; Willis, Hal</td>\n",
       "      <td>Forrester, Charles Robert</td>\n",
       "      <td>Phantasmagoria of fun</td>\n",
       "      <td>NaN</td>\n",
       "    </tr>\n",
       "  </tbody>\n",
       "</table>\n",
       "</div>"
      ],
      "text/plain": [
       "   allcopiesofwork                     author  authordate  category  \\\n",
       "0                1              Fraser, Peter       1932-    nonfic   \n",
       "1                5             Ferrier, Susan  1782-1854.     novel   \n",
       "2                1            Neri, Mary Anne         NaN     novel   \n",
       "3                1                Mann, Erika  1905-1969.     novel   \n",
       "4                2  Forrester, Charles Robert  1803-1850.  juvenile   \n",
       "\n",
       "  copiesin25yrs                      docid enumcron  firstpub gender  \\\n",
       "0             1         mdp.49015000838012      NaN    1971.0      m   \n",
       "1             3         mdp.39015063561586      v.2    1818.0      f   \n",
       "2             1  uiuo.ark+=13960=t8nc6b618      v.1    1804.0      f   \n",
       "3             1               uc1.$b473613      NaN       NaN      f   \n",
       "4             2         nyp.33433074931597     v. 2       NaN      m   \n",
       "\n",
       "                      genres                    imprint  inferreddate  \\\n",
       "0  Bibliographies|NotFiction     Boston|Plays inc.|1971          1971   \n",
       "1     Bibliographies|Fiction  Edinburgh;W. Blackwood an          1818   \n",
       "2              Novel|Fiction  London;Printed for T. Cad          1804   \n",
       "3                 NotFiction  New York|Toronto|Farrar &          1940   \n",
       "4                 NotFiction    London;R. Bentley;1843.          1843   \n",
       "\n",
       "   latestcomp nationality                       pseudonym  \\\n",
       "0        1971          us                             NaN   \n",
       "1        1818          uk                             NaN   \n",
       "2        1804          it                             NaN   \n",
       "3        1940          de                             NaN   \n",
       "4        1843          uk  Crowquill, Alfred; Willis, Hal   \n",
       "\n",
       "                    realname             shorttitle                 subjects  \n",
       "0                        NaN          Puppet circus           Puppet theater  \n",
       "1  Ferrier, Susan Edmonstone      Marriage, a novel          English fiction  \n",
       "2            Neri, Mary Anne  The eve of San-Pietro                      NaN  \n",
       "3                Mann, Erika     The lights go down  Social life and customs  \n",
       "4  Forrester, Charles Robert  Phantasmagoria of fun                      NaN  "
      ]
     },
     "execution_count": 20,
     "metadata": {},
     "output_type": "execute_result"
    }
   ],
   "source": [
    "all = pd.concat([j, p, t])\n",
    "all.head()"
   ]
  },
  {
   "cell_type": "code",
   "execution_count": 21,
   "metadata": {},
   "outputs": [],
   "source": [
    "def isfiction(astring):\n",
    "    if pd.isnull(astring):\n",
    "        return 'non'\n",
    "    \n",
    "    if 'novel' in astring or 'shortstories' in astring:\n",
    "        if 'juvenile' in astring:\n",
    "            return 'juv'\n",
    "        else:\n",
    "            return 'fic'\n",
    "    elif 'juvenile' in astring:\n",
    "        return 'juv'\n",
    "    else:\n",
    "        return 'non'\n",
    "\n",
    "all = all.assign(isfic = all.category.map(isfiction))"
   ]
  },
  {
   "cell_type": "code",
   "execution_count": 28,
   "metadata": {},
   "outputs": [],
   "source": [
    "def lowestof(row):\n",
    "    if pd.isnull(row['firstpub']):\n",
    "        return int(row['latestcomp'])\n",
    "    else:\n",
    "        latest = int(row['latestcomp'])\n",
    "        first = int(row['firstpub'])\n",
    "        lowest = min(latest, first)\n",
    "        if lowest > 1790:\n",
    "            return lowest\n",
    "        else:\n",
    "            return latest\n",
    "\n",
    "all = all.assign(firstpub = all.apply(lowestof, axis = 1))"
   ]
  },
  {
   "cell_type": "code",
   "execution_count": 35,
   "metadata": {},
   "outputs": [
    {
     "data": {
      "image/png": "[encoded data removed]",
      "text/plain": [
       "<matplotlib.figure.Figure at 0x128510400>"
      ]
     },
     "metadata": {},
     "output_type": "display_data"
    },
    {
     "name": "stdout",
     "output_type": "stream",
     "text": [
      "[41, 56, 25, 34, 24, 31, 49, 38, 36, 42, 20, 29, 28, 29, 35, 28, 22, 22, 31, 37, 43]\n"
     ]
    }
   ],
   "source": [
    "timeaxis = []\n",
    "percentages = []\n",
    "raw = []\n",
    "for decade in range(1800, 2010, 10):\n",
    "    in_decade = all.loc[(all.firstpub >= decade) & (all.firstpub < (decade + 10)) & ((all.isfic == 'fic')), : ]\n",
    "    all_genders = sum(in_decade.gender == 'm') + sum(in_decade.gender == 'f')\n",
    "    feminine = sum(in_decade.gender == 'f')\n",
    "    pct = feminine / all_genders\n",
    "    timeaxis.append(decade + 5)\n",
    "    percentages.append(pct)\n",
    "    raw.append(feminine)\n",
    "\n",
    "plt.scatter(timeaxis, percentages)\n",
    "plt.xlim(1800,2010)\n",
    "plt.ylim(0.15, 0.6)\n",
    "plt.show() \n",
    "print(raw)"
   ]
  },
  {
   "cell_type": "code",
   "execution_count": null,
   "metadata": {},
   "outputs": [],
   "source": []
  }
 ],
 "metadata": {
  "kernelspec": {
   "display_name": "Python 3",
   "language": "python",
   "name": "python3"
  },
  "language_info": {
   "codemirror_mode": {
    "name": "ipython",
    "version": 3
   },
   "file_extension": ".py",
   "mimetype": "text/x-python",
   "name": "python",
   "nbconvert_exporter": "python",
   "pygments_lexer": "ipython3",
   "version": "3.5.2"
  }
 },
 "nbformat": 4,
 "nbformat_minor": 2
}
