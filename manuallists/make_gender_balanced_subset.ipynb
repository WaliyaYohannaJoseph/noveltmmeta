{
 "cells": [
  {
   "cell_type": "markdown",
   "metadata": {},
   "source": [
    "# Make gender-balanced subset\n",
    "\n",
    "For most of the two centuries this project covers, more works of fiction were published by men than by women. This dataset experimentally levels that imbalance, using the simple technique of discarding works by men. In a few periods at the beginning and end of the timeline, more works were published by women, and we have to reverse the strategy.\n",
    "\n",
    "This approach means that coverage will be uneven across time; we'll have fewer works overall in periods where gender imbalance was severe.\n",
    "\n",
    "Given unlimited time, we could go back and select a supplement to fill in those dips. But I don't know for sure that this dataset will be used by anyone outside the current project; it seems unwise to be a perfectionist before knowing the size of the audience.\n",
    "\n",
    "The concept of \"gender balance\" implies a binaristic simplification of a more complex reality, but I want to avoid simplifying more than necessary. So I'm not going to discard works where gender is marked as 'u' or 'o.' Instead I'll downsample those works to keep them in proportion to the smaller subset.\n",
    "\n",
    "Mostly this is going to affect collections, anonymous works, and works with multiple authors."
   ]
  },
  {
   "cell_type": "code",
   "execution_count": 1,
   "metadata": {},
   "outputs": [],
   "source": [
    "import pandas as pd\n",
    "import random"
   ]
  },
  {
   "cell_type": "code",
   "execution_count": 2,
   "metadata": {},
   "outputs": [],
   "source": [
    "title = pd.read_csv('manual_title_subset.tsv', sep = '\\t', index_col = 'docid')"
   ]
  },
  {
   "cell_type": "code",
   "execution_count": 5,
   "metadata": {},
   "outputs": [
    {
     "name": "stdout",
     "output_type": "stream",
     "text": [
      "START:  810 1526 394\n",
      "\n",
      "1800 26 32 12 \n",
      "1805 21 29 11 \n",
      "1810 36 21 8 *\n",
      "1815 25 29 12 \n",
      "1820 14 26 18 \n",
      "1825 16 33 13 \n",
      "1830 16 38 12 \n",
      "1835 20 44 13 \n",
      "1840 17 36 9 \n",
      "1845 11 30 19 \n",
      "1850 15 38 14 \n",
      "1855 23 35 9 \n",
      "1860 26 41 6 \n",
      "1865 33 28 5 *\n",
      "1870 21 32 11 \n",
      "1875 22 34 5 \n",
      "1880 21 29 7 \n",
      "1885 19 30 10 \n",
      "1890 26 37 4 \n",
      "1895 19 37 4 \n",
      "1900 13 41 10 \n",
      "1905 15 42 3 \n",
      "1910 15 47 5 \n",
      "1915 23 37 6 \n",
      "1920 15 35 7 \n",
      "1925 16 40 4 \n",
      "1930 17 42 6 \n",
      "1935 15 49 9 \n",
      "1940 19 35 10 \n",
      "1945 23 34 4 \n",
      "1950 29 38 6 \n",
      "1955 12 38 7 \n",
      "1960 17 39 6 \n",
      "1965 9 46 9 \n",
      "1970 14 37 8 \n",
      "1975 10 36 14 \n",
      "1980 16 38 11 \n",
      "1985 17 44 7 \n",
      "1990 18 29 17 \n",
      "1995 20 29 7 \n",
      "2000 14 41 5 \n",
      "2005 29 26 7 *\n",
      "\n",
      "(1787, 18)\n",
      "END:  780 780 227\n"
     ]
    }
   ],
   "source": [
    "numwomen = sum(title.gender == 'f')\n",
    "nummen = sum(title.gender == 'm')\n",
    "numother = len(title) - (numwomen + nummen)\n",
    "print(\"START: \", numwomen, nummen, numother)\n",
    "print()\n",
    "\n",
    "frames = []\n",
    "\n",
    "for floor in range (1800, 2010, 5):\n",
    "    fiveyrs = title.loc[(title.firstpub >= floor) & (title.firstpub < floor + 5), :]\n",
    "    \n",
    "    numwomen = sum(fiveyrs.gender == 'f')\n",
    "    nummen = sum(fiveyrs.gender == 'm')\n",
    "    numother = len(fiveyrs) - (numwomen + nummen)\n",
    "    if numwomen > nummen:\n",
    "        asterisk = \"*\"\n",
    "    else:\n",
    "        asterisk = ''\n",
    "        \n",
    "    print(floor, numwomen, nummen, numother, asterisk)\n",
    "    \n",
    "    women = fiveyrs.loc[fiveyrs.gender == 'f', :]\n",
    "    men = fiveyrs.loc[fiveyrs.gender == 'm', :]\n",
    "    others = fiveyrs.loc[(fiveyrs.gender == 'u') | (fiveyrs.gender == 'o'), :]\n",
    "    \n",
    "    if numwomen < nummen:\n",
    "        men = men.sample(n = numwomen)\n",
    "    elif nummen < numwomen:\n",
    "        women = women.sample(n = nummen)\n",
    "    \n",
    "    reduction = (len(men) + len(women)) / (nummen + numwomen)\n",
    "    numothers = len(others)\n",
    "    reduced = int(numothers * reduction)\n",
    "    others = others.sample(n = reduced)\n",
    "    \n",
    "    newframe = pd.concat([women, men, others], sort = False)\n",
    "    frames.append(newframe)\n",
    "    \n",
    "print()\n",
    "newtitle = pd.concat(frames)\n",
    "print(newtitle.shape)\n",
    "numwomen = sum(newtitle.gender == 'f')\n",
    "nummen = sum(newtitle.gender == 'm')\n",
    "numother = len(newtitle) - (numwomen + nummen)\n",
    "print(\"END: \", numwomen, nummen, numother)"
   ]
  },
  {
   "cell_type": "code",
   "execution_count": 6,
   "metadata": {},
   "outputs": [],
   "source": [
    "newtitle.to_csv('gender_balanced_subset.tsv', sep = '\\t', index_label = 'docid')"
   ]
  },
  {
   "cell_type": "code",
   "execution_count": null,
   "metadata": {},
   "outputs": [],
   "source": []
  }
 ],
 "metadata": {
  "kernelspec": {
   "display_name": "Python 3",
   "language": "python",
   "name": "python3"
  },
  "language_info": {
   "codemirror_mode": {
    "name": "ipython",
    "version": 3
   },
   "file_extension": ".py",
   "mimetype": "text/x-python",
   "name": "python",
   "nbconvert_exporter": "python",
   "pygments_lexer": "ipython3",
   "version": "3.5.2"
  }
 },
 "nbformat": 4,
 "nbformat_minor": 2
}
