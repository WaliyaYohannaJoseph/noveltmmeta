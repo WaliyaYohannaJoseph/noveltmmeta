{
 "cells": [
  {
   "cell_type": "markdown",
   "metadata": {},
   "source": [
    "# EDA on manual_title\n",
    "\n",
    "Now that we've created a manually-checked subset of the title metadata, let's do some exploratory analysis. Among other things, this can help us understand the level of error in the larger dataset.\n",
    "\n",
    "We start by importing needed modules, and loading the data itself."
   ]
  },
  {
   "cell_type": "code",
   "execution_count": 8,
   "metadata": {},
   "outputs": [],
   "source": [
    "import pandas as pd\n",
    "import numpy as np\n",
    "from matplotlib import pyplot as plt\n",
    "from collections import Counter\n",
    "%matplotlib inline"
   ]
  },
  {
   "cell_type": "code",
   "execution_count": 9,
   "metadata": {},
   "outputs": [],
   "source": [
    "all = pd.read_csv('manual_title_subset.tsv', sep = '\\t')"
   ]
  },
  {
   "cell_type": "markdown",
   "metadata": {},
   "source": [
    "### Bootstrap resampling function\n",
    "\n",
    "We're going to want to have some quick and dirty error bars on the ratios plotted below. We can get that through bootstrap resampling."
   ]
  },
  {
   "cell_type": "code",
   "execution_count": 10,
   "metadata": {},
   "outputs": [],
   "source": [
    "def bootstrap_ratio(numtrue, numfalse):\n",
    "    population = [True] * numtrue + [False] * numfalse\n",
    "    results = []\n",
    "    \n",
    "    for i in range(1000):\n",
    "        sample = np.random.choice(population, size = len(population), replace = True)\n",
    "        ratio = sum(sample) / len(sample)\n",
    "        results.append(ratio)\n",
    "    \n",
    "    results.sort()\n",
    "    return results[99], results[900]\n",
    "   "
   ]
  },
  {
   "cell_type": "markdown",
   "metadata": {},
   "source": [
    "### Percentage of volumes that are actually fiction\n",
    "\n",
    "One obvious question: how precise is our sample of fiction, and--even more crucially--how does the level of error vary across time?"
   ]
  },
  {
   "cell_type": "code",
   "execution_count": 11,
   "metadata": {},
   "outputs": [
    {
     "data": {
      "image/png": "[encoded data removed]",
      "text/plain": [
       "<matplotlib.figure.Figure at 0x1a1f028f98>"
      ]
     },
     "metadata": {},
     "output_type": "display_data"
    }
   ],
   "source": [
    "timeaxis = []\n",
    "percentages = []\n",
    "maxima = []\n",
    "minima = []\n",
    "\n",
    "for decade in range(1800, 2010, 15):\n",
    "    in_decade = all.loc[(all.firstpub >= decade) & \n",
    "                        (all.firstpub < (decade + 15)), : ]\n",
    "    ficvols = sum((in_decade.category == 'longfiction') | \n",
    "                  (in_decade.category == 'shortfiction') | \n",
    "                  (in_decade.category == 'juvenile'))\n",
    "    nonficvols = sum((in_decade.category == 'notfiction')  | \n",
    "                     (in_decade.category == 'poetry') |\n",
    "                    (in_decade.category == 'drama'))\n",
    "    pct = ficvols / (ficvols + nonficvols)\n",
    "    timeaxis.append(np.mean(in_decade.firstpub))\n",
    "    percentages.append(pct)\n",
    "    \n",
    "    minimum, maximum = bootstrap_ratio(ficvols, nonficvols)\n",
    "    maxima.append(maximum)\n",
    "    minima.append(minimum)\n",
    "\n",
    "plt.figure(figsize = (8,5))\n",
    "# sns.set_style(\"darkgrid\")\n",
    "plt.xlim(1800,2020)\n",
    "plt.ylim(0.5, 1)\n",
    "downward = np.array(percentages) - np.array(minima)\n",
    "upward = np.array(maxima) - np.array(percentages)\n",
    "plt.errorbar(timeaxis, percentages, yerr = [downward, upward], fmt='--o')\n",
    "plt.title('Fraction of volumes that are fiction')\n",
    "plt.show() \n",
    "\n"
   ]
  },
  {
   "cell_type": "code",
   "execution_count": 12,
   "metadata": {},
   "outputs": [
    {
     "data": {
      "text/plain": [
       "[<matplotlib.lines.Line2D at 0x1a29d15438>]"
      ]
     },
     "execution_count": 12,
     "metadata": {},
     "output_type": "execute_result"
    },
    {
     "data": {
      "image/png": "[encoded data removed]",
      "text/plain": [
       "<matplotlib.figure.Figure at 0x1a2aea4b00>"
      ]
     },
     "metadata": {},
     "output_type": "display_data"
    }
   ],
   "source": [
    "x = []\n",
    "y = []\n",
    "\n",
    "for year, df in all.groupby('firstpub'):\n",
    "    x.append(year)\n",
    "    y.append(len(df[df.category == 'novel'].firstpub))\n",
    "\n",
    "plt.plot(x, y)"
   ]
  },
  {
   "cell_type": "code",
   "execution_count": 13,
   "metadata": {},
   "outputs": [],
   "source": [
    "def isfiction(astring):\n",
    "    ''' Note that this doesn't count juvenile fiction.\n",
    "    '''\n",
    "    \n",
    "    if pd.isnull(astring):\n",
    "        return 'not'\n",
    "\n",
    "    if 'longfiction' in astring or 'shortfiction' in astring:\n",
    "            return 'fic'\n",
    "    else:\n",
    "        return 'not'\n",
    "\n",
    "all = all.assign(isfic = all.category.map(isfiction))"
   ]
  },
  {
   "cell_type": "code",
   "execution_count": 14,
   "metadata": {},
   "outputs": [
    {
     "data": {
      "image/png": "[encoded data removed]",
      "text/plain": [
       "<matplotlib.figure.Figure at 0x1a29e4fa20>"
      ]
     },
     "metadata": {},
     "output_type": "display_data"
    }
   ],
   "source": [
    "timeaxis = []\n",
    "percentages = []\n",
    "minima = []\n",
    "maxima = []\n",
    "\n",
    "for decade in range(1800, 2010, 15):\n",
    "    in_decade = all.loc[(all.firstpub >= decade) & (all.firstpub < (decade + 15)) & ((all.isfic == 'fic')), : ]\n",
    "    masculine = sum(in_decade.gender == 'm') \n",
    "    feminine = sum(in_decade.gender == 'f')\n",
    "    pct = feminine / (masculine + feminine)\n",
    "    timeaxis.append(np.mean(in_decade.firstpub))\n",
    "    percentages.append(pct)\n",
    "    minimum, maximum = bootstrap_ratio(feminine, masculine)\n",
    "    maxima.append(maximum)\n",
    "    minima.append(minimum)\n",
    "\n",
    "plt.xlim(1800,2010)\n",
    "plt.ylim(0.0, 0.6)\n",
    "downward = np.array(percentages) - np.array(minima)\n",
    "upward = np.array(maxima) - np.array(percentages)\n",
    "plt.errorbar(timeaxis, percentages, yerr = [downward, upward], fmt='--o')\n",
    "#plt.savefig('latestupdate.png')\n",
    "plt.show() \n"
   ]
  },
  {
   "cell_type": "code",
   "execution_count": null,
   "metadata": {},
   "outputs": [],
   "source": []
  }
 ],
 "metadata": {
  "kernelspec": {
   "display_name": "Python 3",
   "language": "python",
   "name": "python3"
  },
  "language_info": {
   "codemirror_mode": {
    "name": "ipython",
    "version": 3
   },
   "file_extension": ".py",
   "mimetype": "text/x-python",
   "name": "python",
   "nbconvert_exporter": "python",
   "pygments_lexer": "ipython3",
   "version": "3.5.2"
  }
 },
 "nbformat": 4,
 "nbformat_minor": 2
}
