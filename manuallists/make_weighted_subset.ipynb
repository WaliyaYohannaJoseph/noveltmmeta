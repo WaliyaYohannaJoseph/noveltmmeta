{
 "cells": [
  {
   "cell_type": "markdown",
   "metadata": {},
   "source": [
    "# Make weighted manual subset\n",
    "\n",
    "To reduce the amount of manual coding labor, we didn't create the weighted subset through a completely separate sampling operation. Instead I (Underwood) calculated how a weighted sample would be distributed across the range of reprinting-frequencies, and randomly sampled a *supplement* to make up the difference between a sample representing distinct titles and a sample representing volumes.\n",
    "\n",
    "Now we have to load that supplement and merge it with the title sample, after randomly removing volumes from the title sample. All the volumes we remove will be those only appearing once in Hathi; the volumes we add will all have more than one appearance."
   ]
  },
  {
   "cell_type": "code",
   "execution_count": 74,
   "metadata": {},
   "outputs": [],
   "source": [
    "import random\n",
    "import pandas as pd\n",
    "import numpy as np\n",
    "from matplotlib import pyplot as plt\n",
    "from collections import Counter\n",
    "from difflib import SequenceMatcher\n",
    "%matplotlib inline"
   ]
  },
  {
   "cell_type": "markdown",
   "metadata": {},
   "source": [
    "### Load the data, standardize data dictionary"
   ]
  },
  {
   "cell_type": "code",
   "execution_count": 47,
   "metadata": {},
   "outputs": [],
   "source": [
    "j = pd.read_csv('weighteddata/jessicamanycopies.csv', index_col = 'docid')\n",
    "p = pd.read_csv('weighteddata/patrickmanycopies.csv', index_col = 'docid')\n",
    "t = pd.read_csv('weighteddata/tedmanycopies.csv', index_col = 'docid')"
   ]
  },
  {
   "cell_type": "code",
   "execution_count": 48,
   "metadata": {},
   "outputs": [],
   "source": [
    "j['gender'] = j['gender'].fillna(value = 'u')\n",
    "p['gender'] = p['gender'].fillna(value = 'u')\n",
    "t['gender'] = t['gender'].fillna(value = 'u')"
   ]
  },
  {
   "cell_type": "code",
   "execution_count": 49,
   "metadata": {},
   "outputs": [],
   "source": [
    "def dominant_category(astring):\n",
    "    ''' Accepts a category string that may contain multiple\n",
    "    values, and reduces it to a single category.\n",
    "    '''\n",
    "    astring = astring.replace(' ', '')\n",
    "    cats = astring.split('|')\n",
    "    if 'nonfic' in cats:\n",
    "        return 'nonfic'\n",
    "    if 'poetry' in cats:\n",
    "        return 'poetry'\n",
    "    if 'drama' in cats:\n",
    "        return 'drama'\n",
    "    if 'reprint' in cats:\n",
    "        return 'reprint'\n",
    "    if 'juvenile' in cats:\n",
    "        return 'juvenile'\n",
    "    if 'shortstories' in cats:\n",
    "        return 'shortstories'\n",
    "    if 'novel' in cats:\n",
    "        return 'novel'\n",
    "    else:\n",
    "        return 'error'\n",
    "\n",
    "j = j.assign(category = j.category.map(dominant_category))\n",
    "p = p.assign(category = p.category.map(dominant_category))\n",
    "t = t.assign(category = t.category.map(dominant_category))"
   ]
  },
  {
   "cell_type": "markdown",
   "metadata": {},
   "source": [
    "### How much do human readers agree?\n",
    "\n",
    "The three readers in this portion of the project worked on overlapping sets of books, allowing us to roughly estimate average levels of agreement.\n",
    "\n",
    "Note that \"agree\" may be the wrong verb here, if it suggests as the other alternative a settled and irreconcilable *dis*agreement. Many cases of \"disagreement\" below are just data entry errors. In other cases, we probably could have come to consensus given a bit more time to discuss the meanings of categories. But in this project, we weren't working to stabilize a local consensus for the purposes of a particular experiment. We were rather producing a dataset that we expect to be borrowed by other people, who may or may not share our consensus. So it seemed appropriate to report a first (low) estimate of agreement; that will be more likely to reflect the intersubjective conditions operative for users of this project who know nothing but the names of the categories we used."
   ]
  },
  {
   "cell_type": "code",
   "execution_count": 50,
   "metadata": {},
   "outputs": [],
   "source": [
    "def measure_agreement(category):\n",
    "    agreement = Counter()\n",
    "    differences = []\n",
    "    \n",
    "    frames = [j, p, t]\n",
    "    for index1 in range(0, 3):\n",
    "        for index2 in range(index1 + 1, 3):\n",
    "            print(index1, ' - ', index2)\n",
    "            frame1 = frames[index1]\n",
    "            frame2 = frames[index2]\n",
    "            overlap = set(frame1.index).intersection(set(frame2.index))\n",
    "            for docid in overlap:\n",
    "                value1 = frame1.loc[docid, category]\n",
    "                value2 = frame2.loc[docid, category]\n",
    "                if value1 == value2:\n",
    "                    agreement[True] += 1\n",
    "                elif pd.isnull(value1) and pd.isnull(value2):\n",
    "                    agreement[True] += 1\n",
    "                else:\n",
    "                    agreement[False] += 1\n",
    "                    differences.append((value1, value2, docid))\n",
    "\n",
    "    return agreement, differences"
   ]
  },
  {
   "cell_type": "code",
   "execution_count": 51,
   "metadata": {},
   "outputs": [
    {
     "name": "stdout",
     "output_type": "stream",
     "text": [
      "0  -  1\n",
      "0  -  2\n",
      "1  -  2\n"
     ]
    }
   ],
   "source": [
    "genagreement, genderdiffs = measure_agreement('gender')"
   ]
  },
  {
   "cell_type": "code",
   "execution_count": 52,
   "metadata": {},
   "outputs": [
    {
     "data": {
      "text/plain": [
       "0.9506172839506173"
      ]
     },
     "execution_count": 52,
     "metadata": {},
     "output_type": "execute_result"
    }
   ],
   "source": [
    "genagreement[True] / (genagreement[False] + genagreement[True])"
   ]
  },
  {
   "cell_type": "code",
   "execution_count": 53,
   "metadata": {},
   "outputs": [
    {
     "data": {
      "text/plain": [
       "[('m', 'f', 'uc2.ark+=13960=t3xs5q555'),\n",
       " ('u', 'm', 'uc1.b3295312'),\n",
       " ('m', 'u', 'uc2.ark+=13960=t08w3hh7p'),\n",
       " ('m', 'f', 'mdp.39015039779825'),\n",
       " ('m', 'u', 'mdp.39015061860105'),\n",
       " ('f', 'm', 'mdp.39015016445929'),\n",
       " ('u', 'm', 'mdp.39015000017445'),\n",
       " ('m', 'f', 'nyp.33433074865746')]"
      ]
     },
     "execution_count": 53,
     "metadata": {},
     "output_type": "execute_result"
    }
   ],
   "source": [
    "genderdiffs"
   ]
  },
  {
   "cell_type": "code",
   "execution_count": 54,
   "metadata": {},
   "outputs": [
    {
     "name": "stdout",
     "output_type": "stream",
     "text": [
      "0  -  1\n",
      "0  -  2\n",
      "1  -  2\n"
     ]
    }
   ],
   "source": [
    "catagreement, catdiffs = measure_agreement('category')"
   ]
  },
  {
   "cell_type": "code",
   "execution_count": 55,
   "metadata": {},
   "outputs": [
    {
     "data": {
      "text/plain": [
       "0.8827160493827161"
      ]
     },
     "execution_count": 55,
     "metadata": {},
     "output_type": "execute_result"
    }
   ],
   "source": [
    "catagreement[True] / (catagreement[False] + catagreement[True])"
   ]
  },
  {
   "cell_type": "code",
   "execution_count": 56,
   "metadata": {},
   "outputs": [
    {
     "data": {
      "text/plain": [
       "[('novel', 'shortstories', 'nyp.33433074866611'),\n",
       " ('nonfic', 'novel', 'nyp.33433075764427'),\n",
       " ('novel', 'shortstories', 'uc1.b3295312'),\n",
       " ('reprint', 'nonfic', 'njp.32101054938426'),\n",
       " ('reprint', 'novel', 'mdp.39076006602267'),\n",
       " ('shortstories', 'nonfic', 'uc2.ark+=13960=t08w3hh7p'),\n",
       " ('shortstories', 'reprint', 'uc2.ark+=13960=t81j9qk9w'),\n",
       " ('novel', 'shortstories', 'mdp.39015008170220'),\n",
       " ('novel', 'nonfic', 'uiuo.ark+=13960=t3kw5sm3s'),\n",
       " ('nonfic', 'novel', 'nyp.33433075764427'),\n",
       " ('novel', 'shortstories', 'mdp.39015066681480'),\n",
       " ('shortstories', 'novel', 'hvd.32044090343690'),\n",
       " ('nonfic', 'shortstories', 'mdp.39015073934724'),\n",
       " ('juvenile', 'novel', 'uiuo.ark+=13960=t1pg2cj2j'),\n",
       " ('novel', 'nonfic', 'uc2.ark+=13960=t7sn04f3b'),\n",
       " ('shortstories', 'novel', 'hvd.32044090343690'),\n",
       " ('reprint', 'novel', 'uc2.ark+=13960=t6736q45t'),\n",
       " ('shortstories', 'novel', 'uc1.$b795540'),\n",
       " ('shortstories', 'novel', 'wu.89087923348')]"
      ]
     },
     "execution_count": 56,
     "metadata": {},
     "output_type": "execute_result"
    }
   ],
   "source": [
    "catdiffs"
   ]
  },
  {
   "cell_type": "code",
   "execution_count": 57,
   "metadata": {},
   "outputs": [
    {
     "name": "stdout",
     "output_type": "stream",
     "text": [
      "0  -  1\n",
      "0  -  2\n",
      "1  -  2\n"
     ]
    }
   ],
   "source": [
    "nationagreement, nationdiffs = measure_agreement('nationality')"
   ]
  },
  {
   "cell_type": "code",
   "execution_count": 58,
   "metadata": {},
   "outputs": [
    {
     "data": {
      "text/plain": [
       "0.8641975308641975"
      ]
     },
     "execution_count": 58,
     "metadata": {},
     "output_type": "execute_result"
    }
   ],
   "source": [
    "nationagreement[True] / (nationagreement[False] + nationagreement[True])"
   ]
  },
  {
   "cell_type": "code",
   "execution_count": 59,
   "metadata": {},
   "outputs": [
    {
     "data": {
      "text/plain": [
       "[(nan, 'uk', 'uiuo.ark+=13960=t2t44bz9q'),\n",
       " (nan, 'uk', 'nyp.33433075764427'),\n",
       " ('uk', 'us', 'mdp.39015008540703'),\n",
       " (nan, 'us', 'uc1.b3295312'),\n",
       " ('us', 'uk', 'hvd.32044090343690'),\n",
       " (nan, 'ir', 'uc1.$b686387'),\n",
       " ('ukr', 'ru', 'nyp.33433073355830'),\n",
       " ('in', nan, 'mdp.39015061860105'),\n",
       " ('ir', 'uk', 'mdp.39015059404106'),\n",
       " ('uk', nan, 'uiuo.ark+=13960=t8sb4r697'),\n",
       " (nan, 'uk', 'nyp.33433075764427'),\n",
       " (nan, 'ca', 'uc1.$b323008'),\n",
       " ('ir', 'uk', 'uiuo.ark+=13960=t07w6q90x'),\n",
       " ('us', 'uk', 'hvd.32044090343690'),\n",
       " ('pr', nan, 'mdp.39015073934724'),\n",
       " ('uk', nan, 'uiuo.ark+=13960=t50g48273'),\n",
       " ('us', 'uk', 'mdp.39015063917739'),\n",
       " (nan, 'us', 'mdp.39015000017445'),\n",
       " (nan, 'ca', 'uc1.$b323008'),\n",
       " ('uk', 'us', 'nyp.33433074812243'),\n",
       " ('uk', nan, 'uiuo.ark+=13960=t50g48273'),\n",
       " ('ru', 'uk', 'uc1.$b795540')]"
      ]
     },
     "execution_count": 59,
     "metadata": {},
     "output_type": "execute_result"
    }
   ],
   "source": [
    "nationdiffs"
   ]
  },
  {
   "cell_type": "markdown",
   "metadata": {},
   "source": [
    "#### what fraction of the errors are caused by blanks?"
   ]
  },
  {
   "cell_type": "code",
   "execution_count": 60,
   "metadata": {},
   "outputs": [
    {
     "data": {
      "text/plain": [
       "13"
      ]
     },
     "execution_count": 60,
     "metadata": {},
     "output_type": "execute_result"
    }
   ],
   "source": [
    "ctr = 0\n",
    "for d1, d2, doc in nationdiffs:\n",
    "    if pd.isnull(d1) or pd.isnull(d2):\n",
    "        ctr += 1\n",
    "ctr"
   ]
  },
  {
   "cell_type": "code",
   "execution_count": 61,
   "metadata": {},
   "outputs": [
    {
     "data": {
      "text/plain": [
       "0.5909090909090909"
      ]
     },
     "execution_count": 61,
     "metadata": {},
     "output_type": "execute_result"
    }
   ],
   "source": [
    "13 / len(nationdiffs)"
   ]
  },
  {
   "cell_type": "markdown",
   "metadata": {},
   "source": [
    "## Combining the dataframes\n",
    "\n",
    "This is a two-stage process, because we have to first reconcile the disagreements detailed above.\n",
    "\n",
    "#### make list of contested volumes"
   ]
  },
  {
   "cell_type": "code",
   "execution_count": 66,
   "metadata": {},
   "outputs": [
    {
     "data": {
      "text/plain": [
       "(72, 18)"
      ]
     },
     "execution_count": 66,
     "metadata": {},
     "output_type": "execute_result"
    }
   ],
   "source": [
    "cat = 0\n",
    "reasons = dict()\n",
    "allcontested = set()\n",
    "\n",
    "for diffs in [genderdiffs, catdiffs, nationdiffs]:\n",
    "    cat += 1\n",
    "    for a, b, docid in diffs:\n",
    "        if docid not in reasons:\n",
    "            reasons[docid] = \"\"\n",
    "        if cat == 1:\n",
    "            reasons[docid] += \"gender|\"\n",
    "        elif cat == 2:\n",
    "            reasons[docid] += \"category|\"\n",
    "        else:\n",
    "            reasons[docid] += \"nation|\"\n",
    "            \n",
    "        allcontested.add(docid)\n",
    "\n",
    "subset = list(allcontested)\n",
    "\n",
    "tsub = t.loc[list(set(subset).intersection(set(t.index))), : ]\n",
    "psub = p.loc[list(set(subset).intersection(set(p.index))), : ]\n",
    "jsub = j.loc[list(set(subset).intersection(set(j.index))), : ]\n",
    "tsub = tsub.assign(reader = 't')\n",
    "psub = psub.assign(reader = 'p')\n",
    "jsub = jsub.assign(reader = 'j')\n",
    "subsets = pd.concat([tsub, psub, jsub])\n",
    "subsets.shape\n"
   ]
  },
  {
   "cell_type": "code",
   "execution_count": 67,
   "metadata": {},
   "outputs": [
    {
     "data": {
      "text/plain": [
       "(34, 18)"
      ]
     },
     "execution_count": 67,
     "metadata": {},
     "output_type": "execute_result"
    }
   ],
   "source": [
    "# drop duplicate rows\n",
    "\n",
    "subsets = subsets[~subsets.index.duplicated(keep='first')]\n",
    "subsets.shape"
   ]
  },
  {
   "cell_type": "code",
   "execution_count": 68,
   "metadata": {},
   "outputs": [],
   "source": [
    "subsets['debate'] = subsets.index.to_series().map(reasons)"
   ]
  },
  {
   "cell_type": "markdown",
   "metadata": {},
   "source": [
    "#### resolve disagreements"
   ]
  },
  {
   "cell_type": "code",
   "execution_count": 69,
   "metadata": {},
   "outputs": [],
   "source": [
    "# subsets.to_csv('weighteddata/contested_volumes.csv', index_label = 'docid')\n",
    "\n",
    "# Note that I'm commenting that out, because I don't want it to re-run \n",
    "# every time this notebook is run. But on the first pass, this is where I\n",
    "# wrote to file, and manually edited, a list of contested volumes."
   ]
  },
  {
   "cell_type": "markdown",
   "metadata": {},
   "source": [
    "#### make list of uncontested volumes, and combine with contested"
   ]
  },
  {
   "cell_type": "code",
   "execution_count": 70,
   "metadata": {},
   "outputs": [
    {
     "data": {
      "text/plain": [
       "(533, 17)"
      ]
     },
     "execution_count": 70,
     "metadata": {},
     "output_type": "execute_result"
    }
   ],
   "source": [
    "allvols = pd.concat([j, p, t])\n",
    "allvols.drop_duplicates(inplace = True, keep = False)\n",
    "allvols.shape"
   ]
  },
  {
   "cell_type": "code",
   "execution_count": 71,
   "metadata": {},
   "outputs": [
    {
     "data": {
      "text/plain": [
       "(34, 17)"
      ]
     },
     "execution_count": 71,
     "metadata": {},
     "output_type": "execute_result"
    }
   ],
   "source": [
    "contested = pd.read_csv('weighteddata/contested_volumes.csv', index_col = 'docid')\n",
    "contested.drop(labels = ['debate', 'reader'], axis = 1, inplace = True)\n",
    "contested.shape"
   ]
  },
  {
   "cell_type": "code",
   "execution_count": 72,
   "metadata": {},
   "outputs": [
    {
     "data": {
      "text/plain": [
       "(567, 17)"
      ]
     },
     "execution_count": 72,
     "metadata": {},
     "output_type": "execute_result"
    }
   ],
   "source": [
    "allvols = pd.concat([allvols, contested])\n",
    "allvols.shape"
   ]
  },
  {
   "cell_type": "markdown",
   "metadata": {},
   "source": [
    "#### reconsider ```reprint``` category"
   ]
  },
  {
   "cell_type": "code",
   "execution_count": 88,
   "metadata": {},
   "outputs": [
    {
     "data": {
      "text/plain": [
       "(15, 17)"
      ]
     },
     "execution_count": 88,
     "metadata": {},
     "output_type": "execute_result"
    }
   ],
   "source": [
    "reprints = allvols.loc[allvols.category == 'reprint', : ]\n",
    "reprints.shape"
   ]
  },
  {
   "cell_type": "code",
   "execution_count": 89,
   "metadata": {},
   "outputs": [],
   "source": [
    "# commenting out because I don't actually want this step to re-run\n",
    "\n",
    "# reprints.to_csv('weighteddata/reprints.csv', index_label = 'docid')"
   ]
  },
  {
   "cell_type": "code",
   "execution_count": 90,
   "metadata": {},
   "outputs": [
    {
     "name": "stdout",
     "output_type": "stream",
     "text": [
      "reprints:  (15, 18)\n",
      "noreprints:  (552, 18)\n"
     ]
    }
   ],
   "source": [
    "reprints = pd.read_csv('weighteddata/reprints.csv', index_col = 'docid')\n",
    "noreprints = allvols.loc[allvols.category != 'reprint', : ]\n",
    "noreprints = noreprints.assign(hathiadvent = 'contemporary')\n",
    "print(\"reprints: \", reprints.shape)\n",
    "print(\"noreprints: \", noreprints.shape)"
   ]
  },
  {
   "cell_type": "code",
   "execution_count": 91,
   "metadata": {},
   "outputs": [
    {
     "name": "stderr",
     "output_type": "stream",
     "text": [
      "/Users/tunder/miniconda3/lib/python3.5/site-packages/ipykernel/__main__.py:1: FutureWarning: Sorting because non-concatenation axis is not aligned. A future version\n",
      "of pandas will change to not sort by default.\n",
      "\n",
      "To accept the future behavior, pass 'sort=False'.\n",
      "\n",
      "To retain the current behavior and silence the warning, pass 'sort=True'.\n",
      "\n",
      "  if __name__ == '__main__':\n"
     ]
    },
    {
     "data": {
      "text/plain": [
       "(567, 18)"
      ]
     },
     "execution_count": 91,
     "metadata": {},
     "output_type": "execute_result"
    }
   ],
   "source": [
    "allvols = pd.concat([noreprints, reprints])\n",
    "allvols.shape"
   ]
  },
  {
   "cell_type": "markdown",
   "metadata": {},
   "source": [
    "## Merging the frequently-reprinted supplement with the title_subset\n",
    "\n",
    "To do this, we first have to remove an equal number of rarely-reprinted volumes, distributed similarly across the timeline."
   ]
  },
  {
   "cell_type": "code",
   "execution_count": 81,
   "metadata": {},
   "outputs": [],
   "source": [
    "title = pd.read_csv('manual_title_subset.tsv', sep = '\\t', index_col = 'docid')"
   ]
  },
  {
   "cell_type": "code",
   "execution_count": 85,
   "metadata": {},
   "outputs": [],
   "source": [
    "toremove = []\n",
    "\n",
    "for floor in range(1800, 2010, 10):\n",
    "    originals = title.loc[(title.inferreddate >= floor) & \n",
    "                          (title.inferreddate < (floor + 10)) &\n",
    "                         (title.copiesin25yrs.astype(int) < 2), : ]\n",
    "    new = allvols.loc[(allvols.inferreddate >= floor) & \n",
    "                          (allvols.inferreddate < (floor + 10)), : ]\n",
    "    k = new.shape[0]\n",
    "    sample = random.sample(originals.index.tolist(), k)\n",
    "    toremove.extend(sample)  "
   ]
  },
  {
   "cell_type": "code",
   "execution_count": 86,
   "metadata": {},
   "outputs": [
    {
     "data": {
      "text/plain": [
       "567"
      ]
     },
     "execution_count": 86,
     "metadata": {},
     "output_type": "execute_result"
    }
   ],
   "source": [
    "len(toremove)"
   ]
  },
  {
   "cell_type": "code",
   "execution_count": 92,
   "metadata": {},
   "outputs": [
    {
     "data": {
      "text/plain": [
       "(2730, 18)"
      ]
     },
     "execution_count": 92,
     "metadata": {},
     "output_type": "execute_result"
    }
   ],
   "source": [
    "title.shape"
   ]
  },
  {
   "cell_type": "code",
   "execution_count": 93,
   "metadata": {},
   "outputs": [
    {
     "data": {
      "text/plain": [
       "(2163, 18)"
      ]
     },
     "execution_count": 93,
     "metadata": {},
     "output_type": "execute_result"
    }
   ],
   "source": [
    "title.drop(labels = toremove, inplace = True)\n",
    "title.shape"
   ]
  },
  {
   "cell_type": "code",
   "execution_count": 94,
   "metadata": {},
   "outputs": [
    {
     "name": "stderr",
     "output_type": "stream",
     "text": [
      "/Users/tunder/miniconda3/lib/python3.5/site-packages/ipykernel/__main__.py:1: FutureWarning: Sorting because non-concatenation axis is not aligned. A future version\n",
      "of pandas will change to not sort by default.\n",
      "\n",
      "To accept the future behavior, pass 'sort=False'.\n",
      "\n",
      "To retain the current behavior and silence the warning, pass 'sort=True'.\n",
      "\n",
      "  if __name__ == '__main__':\n"
     ]
    },
    {
     "data": {
      "text/plain": [
       "(2730, 18)"
      ]
     },
     "execution_count": 94,
     "metadata": {},
     "output_type": "execute_result"
    }
   ],
   "source": [
    "all = pd.concat([title, allvols])\n",
    "all.shape"
   ]
  },
  {
   "cell_type": "code",
   "execution_count": 96,
   "metadata": {},
   "outputs": [],
   "source": [
    "all.to_csv('weighted_subset.tsv', sep = '\\t', index_label = 'docid')"
   ]
  },
  {
   "cell_type": "markdown",
   "metadata": {},
   "source": [
    "### EDA on gender"
   ]
  },
  {
   "cell_type": "code",
   "execution_count": 97,
   "metadata": {},
   "outputs": [],
   "source": [
    "def isfiction(astring):\n",
    "    ''' Note that this doesn't count juvenile fiction.\n",
    "    '''\n",
    "    \n",
    "    if pd.isnull(astring):\n",
    "        return 'not'\n",
    "\n",
    "    if 'longfiction' in astring or 'shortfiction' in astring:\n",
    "            return 'fic'\n",
    "    else:\n",
    "        return 'not'\n",
    "\n",
    "all = all.assign(isfic = all.category.map(isfiction))"
   ]
  },
  {
   "cell_type": "code",
   "execution_count": 99,
   "metadata": {},
   "outputs": [],
   "source": [
    "def bootstrap_ratio(numtrue, numfalse):\n",
    "    population = [True] * numtrue + [False] * numfalse\n",
    "    results = []\n",
    "    \n",
    "    for i in range(1000):\n",
    "        sample = np.random.choice(population, size = len(population), replace = True)\n",
    "        ratio = sum(sample) / len(sample)\n",
    "        results.append(ratio)\n",
    "    \n",
    "    results.sort()\n",
    "    return results[49], results[950]"
   ]
  },
  {
   "cell_type": "code",
   "execution_count": 100,
   "metadata": {},
   "outputs": [
    {
     "data": {
      "image/png": "[encoded data removed]",
      "text/plain": [
       "<matplotlib.figure.Figure at 0x11c17f208>"
      ]
     },
     "metadata": {},
     "output_type": "display_data"
    }
   ],
   "source": [
    "timeaxis = []\n",
    "percentages = []\n",
    "minima = []\n",
    "maxima = []\n",
    "\n",
    "for decade in range(1800, 2010, 15):\n",
    "    in_decade = all.loc[(all.firstpub >= decade) & (all.firstpub < (decade + 15)) & ((all.isfic == 'fic')), : ]\n",
    "    masculine = sum(in_decade.gender == 'm') \n",
    "    feminine = sum(in_decade.gender == 'f')\n",
    "    pct = feminine / (masculine + feminine)\n",
    "    timeaxis.append(np.mean(in_decade.firstpub))\n",
    "    percentages.append(pct)\n",
    "    minimum, maximum = bootstrap_ratio(feminine, masculine)\n",
    "    maxima.append(maximum)\n",
    "    minima.append(minimum)\n",
    "\n",
    "plt.figure(figsize = (9, 6))\n",
    "plt.xlim(1800,2010)\n",
    "plt.ylim(0.0, 0.6)\n",
    "plt.title('Percentage of fiction by women')\n",
    "downward = np.array(percentages) - np.array(minima)\n",
    "upward = np.array(maxima) - np.array(percentages)\n",
    "plt.errorbar(timeaxis, percentages, yerr = [downward, upward], fmt='--o', ecolor = 'k', color = 'b')\n",
    "plt.savefig('figures/weightedsubset/pctwomen.png')\n",
    "plt.show() "
   ]
  },
  {
   "cell_type": "code",
   "execution_count": null,
   "metadata": {},
   "outputs": [],
   "source": []
  }
 ],
 "metadata": {
  "anaconda-cloud": {},
  "kernelspec": {
   "display_name": "Python 3",
   "language": "python",
   "name": "python3"
  },
  "language_info": {
   "codemirror_mode": {
    "name": "ipython",
    "version": 3
   },
   "file_extension": ".py",
   "mimetype": "text/x-python",
   "name": "python",
   "nbconvert_exporter": "python",
   "pygments_lexer": "ipython3",
   "version": "3.5.2"
  }
 },
 "nbformat": 4,
 "nbformat_minor": 1
}
