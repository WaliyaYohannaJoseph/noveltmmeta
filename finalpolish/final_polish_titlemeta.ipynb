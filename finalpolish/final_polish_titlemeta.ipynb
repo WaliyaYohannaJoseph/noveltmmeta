{
 "cells": [
  {
   "cell_type": "markdown",
   "metadata": {},
   "source": [
    "# Final transformation of title metadata\n",
    "\n",
    "This is a final stage of processing on the file formerly called ```workmeta.tsv``` -- now ```titlemeta.tsv.``` It addresses some errors that slipped into the file, especially re: the \"numbers of copies\" associated with particular records. \n",
    "\n",
    "At the same time, it absorbs and translates"
   ]
  },
  {
   "cell_type": "code",
   "execution_count": null,
   "metadata": {
    "collapsed": true
   },
   "outputs": [],
   "source": []
  }
 ],
 "metadata": {
  "anaconda-cloud": {},
  "kernelspec": {
   "display_name": "Python [conda root]",
   "language": "python",
   "name": "conda-root-py"
  },
  "language_info": {
   "codemirror_mode": {
    "name": "ipython",
    "version": 3
   },
   "file_extension": ".py",
   "mimetype": "text/x-python",
   "name": "python",
   "nbconvert_exporter": "python",
   "pygments_lexer": "ipython3",
   "version": "3.5.2"
  }
 },
 "nbformat": 4,
 "nbformat_minor": 1
}
