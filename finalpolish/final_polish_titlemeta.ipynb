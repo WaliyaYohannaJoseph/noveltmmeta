{
 "cells": [
  {
   "cell_type": "markdown",
   "metadata": {},
   "source": [
    "# Final transformation of title metadata\n",
    "\n",
    "This is a final stage of processing on the file formerly called ```workmeta.tsv``` -- now ```titlemeta.tsv.``` It addresses some errors that slipped into the file, especially re: the \"numbers of copies\" associated with particular records. \n",
    "\n",
    "At the same time, we absorb the probabilistic information in recordmeta.tsv and migrate it across to the smaller titlemeta file."
   ]
  },
  {
   "cell_type": "code",
   "execution_count": 29,
   "metadata": {
    "collapsed": true
   },
   "outputs": [],
   "source": [
    "import pandas as pd\n",
    "import numpy as np\n",
    "from matplotlib import pyplot as plt\n",
    "from scipy.stats import pearsonr"
   ]
  },
  {
   "cell_type": "code",
   "execution_count": 3,
   "metadata": {
    "collapsed": false
   },
   "outputs": [],
   "source": [
    "title = pd.read_csv('../titlemeta.tsv', sep = '\\t', index_col = 'docid',\n",
    "                   low_memory = False)"
   ]
  },
  {
   "cell_type": "code",
   "execution_count": 4,
   "metadata": {
    "collapsed": true
   },
   "outputs": [],
   "source": [
    "record = pd.read_csv('../recordmeta.tsv', sep = '\\t', \n",
    "                     index_col = 'docid', low_memory = False)"
   ]
  },
  {
   "cell_type": "code",
   "execution_count": 6,
   "metadata": {
    "collapsed": false
   },
   "outputs": [
    {
     "name": "stdout",
     "output_type": "stream",
     "text": [
      "['oldauthor', 'author', 'authordate', 'inferreddate', 'latestcomp', 'datetype', 'startdate', 'enddate', 'imprint', 'imprintdate', 'contents', 'genres', 'subjects', 'geographics', 'locnum', 'oclc', 'place', 'recordid', 'instances', 'allcopiesofwork', 'copiesin25yrs', 'enumcron', 'volnum', 'title', 'parttitle', 'earlyedition', 'shorttitle']\n"
     ]
    }
   ],
   "source": [
    "print(title.columns.tolist())"
   ]
  },
  {
   "cell_type": "markdown",
   "metadata": {},
   "source": [
    "### Fixing the \"copies\" calculation\n",
    "\n",
    "So, in the second deduplication notebook, I\n",
    "\n",
    "    a) group volumes that share the same author and title and\n",
    "    b) count the number of instances of those volumes\n",
    "\n",
    "I then used those counts to fill ```allcopiesofwork``` and ```copiesin25yrs.``` The only problem is that multi-volume works (e.g. triple-decker novels) got credit for *all three volumes*; thus if you construct a list of the most-reprinted books, they're almost all three and four-volume novels!\n",
    "\n",
    "\"Ah,\" you'll say, \"your error was that you should have grouped volumes that shared the same author, title and *enumcron/volume number*.\" That way vol 2 of *Ivanhoe* would only get credit for other volume twos of *Ivanhoe.*\n",
    "\n",
    "Initially plausible, except that deduplication is often merging records with different numbers of volumes--e.g. two-, three-, and one-volume editions of Ivanhoe!\n",
    "\n",
    "For an ideal version of this calculation, we might go back to the second dedup notebook and divide the count of copies by number of vols-per-record at that stage of the process. So we would be in effect counting recordids."
   ]
  },
  {
   "cell_type": "code",
   "execution_count": 13,
   "metadata": {
    "collapsed": false
   },
   "outputs": [],
   "source": [
    "copiesperdoc = dict()\n",
    "\n",
    "for r, df in record.groupby('recordid'):\n",
    "    numvols = len(df)\n",
    "    for idx in df.index:\n",
    "        instances = int(df.loc[idx, 'instances'])\n",
    "        copiesperdoc[idx] = instances / numvols"
   ]
  },
  {
   "cell_type": "code",
   "execution_count": 14,
   "metadata": {
    "collapsed": false
   },
   "outputs": [],
   "source": [
    "groupdict = dict()\n",
    "with open('../dedup/allgroups.tsv', encoding = 'utf-8') as f:\n",
    "    for line in f:\n",
    "        docs = set(line.strip().split('\\t'))\n",
    "        for d in docs:\n",
    "            groupdict[d] = docs"
   ]
  },
  {
   "cell_type": "code",
   "execution_count": 28,
   "metadata": {
    "collapsed": false
   },
   "outputs": [],
   "source": [
    "allcop = []\n",
    "cop25 = []\n",
    "\n",
    "for doc, row in title.iterrows():\n",
    "    \n",
    "    group = groupdict[doc]\n",
    "    allcopies = 0\n",
    "    copies25 = 0\n",
    "    thisdate = row.inferreddate\n",
    "    \n",
    "    for d in group:\n",
    "        if ':/' in d:\n",
    "            d = d.replace(':', '+')\n",
    "            d = d.replace('/', '=')\n",
    "        ddate = record.loc[d, 'inferreddate']\n",
    "        instances4d = copiesperdoc[d]\n",
    "        allcopies += instances4d\n",
    "        if thisdate + 25 >= ddate:\n",
    "            copies25 += instances4d\n",
    "            \n",
    "    allcop.append(allcopies)\n",
    "    cop25.append(copies25)"
   ]
  },
  {
   "cell_type": "code",
   "execution_count": 30,
   "metadata": {
    "collapsed": false
   },
   "outputs": [
    {
     "data": {
      "text/plain": [
       "(0.8697198875602189, 0.0)"
      ]
     },
     "execution_count": 30,
     "metadata": {},
     "output_type": "execute_result"
    }
   ],
   "source": [
    "pearsonr(allcop, title.allcopiesofwork)"
   ]
  },
  {
   "cell_type": "code",
   "execution_count": 31,
   "metadata": {
    "collapsed": false
   },
   "outputs": [
    {
     "data": {
      "text/plain": [
       "(0.76864050880328427, 0.0)"
      ]
     },
     "execution_count": 31,
     "metadata": {},
     "output_type": "execute_result"
    }
   ],
   "source": [
    "pearsonr(cop25, title.copiesin25yrs)"
   ]
  },
  {
   "cell_type": "code",
   "execution_count": 32,
   "metadata": {
    "collapsed": false
   },
   "outputs": [
    {
     "data": {
      "text/plain": [
       "(0.62185135782640855, 0.0)"
      ]
     },
     "execution_count": 32,
     "metadata": {},
     "output_type": "execute_result"
    }
   ],
   "source": [
    "pearsonr(allcop, title.copiesin25yrs)"
   ]
  },
  {
   "cell_type": "code",
   "execution_count": 33,
   "metadata": {
    "collapsed": true
   },
   "outputs": [],
   "source": [
    "title = title.assign(allcopiesofwork = allcop)\n",
    "title = title.assign(copiesin25yrs = cop25)"
   ]
  },
  {
   "cell_type": "code",
   "execution_count": 34,
   "metadata": {
    "collapsed": true
   },
   "outputs": [],
   "source": [
    "title = title.join(record.nonficprob, how = 'left')\n",
    "title = title.join(record.juvenileprob, how = 'left')"
   ]
  },
  {
   "cell_type": "code",
   "execution_count": 35,
   "metadata": {
    "collapsed": false
   },
   "outputs": [
    {
     "data": {
      "text/plain": [
       "(138137, 29)"
      ]
     },
     "execution_count": 35,
     "metadata": {},
     "output_type": "execute_result"
    }
   ],
   "source": [
    "title.shape"
   ]
  },
  {
   "cell_type": "code",
   "execution_count": 37,
   "metadata": {
    "collapsed": false
   },
   "outputs": [],
   "source": [
    "title.to_csv('../titlemeta.tsv', sep = '\\t', index_label = 'docid')"
   ]
  },
  {
   "cell_type": "code",
   "execution_count": null,
   "metadata": {
    "collapsed": true
   },
   "outputs": [],
   "source": []
  }
 ],
 "metadata": {
  "anaconda-cloud": {},
  "kernelspec": {
   "display_name": "Python [conda root]",
   "language": "python",
   "name": "conda-root-py"
  },
  "language_info": {
   "codemirror_mode": {
    "name": "ipython",
    "version": 3
   },
   "file_extension": ".py",
   "mimetype": "text/x-python",
   "name": "python",
   "nbconvert_exporter": "python",
   "pygments_lexer": "ipython3",
   "version": "3.5.2"
  }
 },
 "nbformat": 4,
 "nbformat_minor": 1
}
